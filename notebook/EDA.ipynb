{
 "cells": [
  {
   "metadata": {},
   "cell_type": "markdown",
   "source": "# Telecom Churn Prediction Model",
   "id": "c4ae24e332e18d80"
  },
  {
   "metadata": {},
   "cell_type": "markdown",
   "source": [
    "## Project Life Cycle\n",
    "1. Understand Problem Statement\n",
    "2. Data Collection\n",
    "3. Data Checks and validation\n",
    "4. Exploratory Data Analysis (EDA)\n",
    "5. Data Pre-processing\n",
    "6. Model Training & Testing\n",
    "7. Model Evaluation - Choosing the best model"
   ],
   "id": "447d0e96e1c926a1"
  },
  {
   "metadata": {},
   "cell_type": "markdown",
   "source": [
    "## 1. Understand the Problem Statement: \n",
    "-> *What is churn?* Churn occurs when a customer stops using the company's services and leaves for another provider.\n",
    "This is bad for the company because acquiring new customers is often more expensive than keeping existing ones.\n",
    "\n",
    "\n",
    "*Goal*:\n",
    "This project involves identifying patterns and factors contributing to customer churn and building a predictive model\n",
    "to help the telecom company retain customers.\n",
    "Understand the relationships between factors and churn to better;\n",
    "\n",
    "i.  Predict if a customer is likely to churn.\n",
    "\n",
    "\n",
    "ii. Identify what factors contribute to churn so the company can take action to reduce it."
   ],
   "id": "416a955b75c8cf44"
  },
  {
   "metadata": {},
   "cell_type": "markdown",
   "source": [
    "## 2. Data Collection:\n",
    "-> *Data Source* : [Source](https://www.kaggle.com/royjafari/customer-churn) for data  and [source](https://archive.ics.uci.edu/ml/datasets/Iranian+Churn+Dataset) of dataset description.\n",
    "\n",
    "\n",
    "-> The data consist of 14 columns and 3150 rows [see data_dict.md file]"
   ],
   "id": "63b51cacace06665"
  },
  {
   "metadata": {},
   "cell_type": "markdown",
   "source": [
    "### 2.1. Install Packages and Import Necessary Libraries\n",
    "\n"
   ],
   "id": "f41e03029f16b8b5"
  },
  {
   "metadata": {},
   "cell_type": "code",
   "outputs": [],
   "execution_count": null,
   "source": [
    "import pandas as pd\n",
    "import numpy as np\n",
    "import matplotlib.pyplot as plt\n",
    "%matplotlib inline\n",
    "import seaborn as sns\n",
    "import warnings\n",
    "warnings.filterwarnings('ignore')"
   ],
   "id": "3572fea535a755f"
  }
 ],
 "metadata": {
  "kernelspec": {
   "display_name": "Python 3",
   "language": "python",
   "name": "python3"
  },
  "language_info": {
   "codemirror_mode": {
    "name": "ipython",
    "version": 2
   },
   "file_extension": ".py",
   "mimetype": "text/x-python",
   "name": "python",
   "nbconvert_exporter": "python",
   "pygments_lexer": "ipython2",
   "version": "2.7.6"
  }
 },
 "nbformat": 4,
 "nbformat_minor": 5
}
