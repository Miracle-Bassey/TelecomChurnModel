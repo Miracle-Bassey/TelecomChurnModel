{
 "cells": [
  {
   "metadata": {},
   "cell_type": "markdown",
   "source": "## Model Training",
   "id": "703bddb9fe7eee46"
  },
  {
   "metadata": {},
   "cell_type": "markdown",
   "source": "### 1.1 Import Packages and Data",
   "id": "a07c6a7be227209a"
  },
  {
   "cell_type": "code",
   "id": "initial_id",
   "metadata": {
    "collapsed": true,
    "ExecuteTime": {
     "end_time": "2025-01-29T19:50:10.136899Z",
     "start_time": "2025-01-29T19:50:10.127514Z"
    }
   },
   "source": [
    "# Basic Imports\n",
    "import numpy as np\n",
    "import pandas as pd\n",
    "import matplotlib.pyplot as plt\n",
    "import seaborn as sns\n",
    "\n",
    "# Modelling\n",
    "from sklearn.metrics import accuracy_score, precision_score, recall_score, f1_score, roc_auc_score, make_scorer, confusion_matrix, roc_curve, precision_recall_curve\n",
    "from sklearn.model_selection import train_test_split, RandomizedSearchCV, GridSearchCV\n",
    "from sklearn.linear_model import LogisticRegression\n",
    "from sklearn.ensemble import RandomForestClassifier\n",
    "from sklearn.svm import SVC\n",
    "from catboost import CatBoostClassifier\n",
    "from sklearn.utils.class_weight import compute_class_weight\n",
    "\n",
    "# FEature Importance\n",
    "import shap\n",
    "\n",
    "\n",
    "# Preprocessing\n",
    "from sklearn.preprocessing import RobustScaler, FunctionTransformer\n",
    "from sklearn.impute import SimpleImputer\n",
    "from sklearn.compose import ColumnTransformer\n",
    "from scipy.stats import boxcox\n",
    "from sklearn.pipeline import Pipeline\n",
    "\n",
    "# Error handling\n",
    "import warnings\n",
    "warnings.filterwarnings(\"ignore\")"
   ],
   "outputs": [],
   "execution_count": 77
  },
  {
   "metadata": {},
   "cell_type": "markdown",
   "source": "### Import the CSV Data as Pandas DataFrame",
   "id": "7ed40682b58dfc65"
  },
  {
   "metadata": {
    "ExecuteTime": {
     "end_time": "2025-01-29T13:43:41.166152Z",
     "start_time": "2025-01-29T13:43:41.147581Z"
    }
   },
   "cell_type": "code",
   "source": "df = pd.read_csv('data/customer_churn.csv')",
   "id": "c40cf2123f76587d",
   "outputs": [],
   "execution_count": 2
  },
  {
   "metadata": {
    "ExecuteTime": {
     "end_time": "2025-01-29T13:43:41.235012Z",
     "start_time": "2025-01-29T13:43:41.201242Z"
    }
   },
   "cell_type": "code",
   "source": "df.info()",
   "id": "6b016667d3cebec5",
   "outputs": [
    {
     "name": "stdout",
     "output_type": "stream",
     "text": [
      "<class 'pandas.core.frame.DataFrame'>\n",
      "RangeIndex: 3150 entries, 0 to 3149\n",
      "Data columns (total 14 columns):\n",
      " #   Column                   Non-Null Count  Dtype  \n",
      "---  ------                   --------------  -----  \n",
      " 0   Call Failure             3150 non-null   int64  \n",
      " 1   Complaints               3150 non-null   int64  \n",
      " 2   Subscription Length      3150 non-null   int64  \n",
      " 3   Charge Amount            3150 non-null   int64  \n",
      " 4   Seconds of Use           3150 non-null   int64  \n",
      " 5   Frequency of use         3150 non-null   int64  \n",
      " 6   Frequency of SMS         3150 non-null   int64  \n",
      " 7   Distinct Called Numbers  3150 non-null   int64  \n",
      " 8   Age Group                3150 non-null   int64  \n",
      " 9   Tariff Plan              3150 non-null   int64  \n",
      " 10  Status                   3150 non-null   int64  \n",
      " 11  Age                      3150 non-null   int64  \n",
      " 12  Customer Value           3150 non-null   float64\n",
      " 13  Churn                    3150 non-null   int64  \n",
      "dtypes: float64(1), int64(13)\n",
      "memory usage: 344.7 KB\n"
     ]
    }
   ],
   "execution_count": 3
  },
  {
   "metadata": {},
   "cell_type": "markdown",
   "source": "### Drop Duplicate",
   "id": "dfc7c255521dc03"
  },
  {
   "metadata": {
    "ExecuteTime": {
     "end_time": "2025-01-29T13:43:41.565780Z",
     "start_time": "2025-01-29T13:43:41.556282Z"
    }
   },
   "cell_type": "code",
   "source": "df.drop_duplicates(inplace=True)  # Remove duplicate rows",
   "id": "1eba08f906bddedd",
   "outputs": [],
   "execution_count": 4
  },
  {
   "metadata": {},
   "cell_type": "markdown",
   "source": "### Preparing X and Y variables",
   "id": "aacc62f535f36f60"
  },
  {
   "metadata": {
    "ExecuteTime": {
     "end_time": "2025-01-29T13:43:41.590540Z",
     "start_time": "2025-01-29T13:43:41.583620Z"
    }
   },
   "cell_type": "code",
   "source": "X = df.drop(columns=['Churn']).copy()",
   "id": "fde627fa5da386cc",
   "outputs": [],
   "execution_count": 5
  },
  {
   "metadata": {
    "ExecuteTime": {
     "end_time": "2025-01-29T13:43:41.734273Z",
     "start_time": "2025-01-29T13:43:41.712667Z"
    }
   },
   "cell_type": "code",
   "source": "X.head()",
   "id": "a1114e849e91ceb8",
   "outputs": [
    {
     "data": {
      "text/plain": [
       "   Call Failure  Complaints  Subscription Length  Charge Amount  \\\n",
       "0             8           0                   38              0   \n",
       "1             0           0                   39              0   \n",
       "2            10           0                   37              0   \n",
       "3            10           0                   38              0   \n",
       "4             3           0                   38              0   \n",
       "\n",
       "   Seconds of Use  Frequency of use  Frequency of SMS  \\\n",
       "0            4370                71                 5   \n",
       "1             318                 5                 7   \n",
       "2            2453                60               359   \n",
       "3            4198                66                 1   \n",
       "4            2393                58                 2   \n",
       "\n",
       "   Distinct Called Numbers  Age Group  Tariff Plan  Status  Age  \\\n",
       "0                       17          3            1       1   30   \n",
       "1                        4          2            1       2   25   \n",
       "2                       24          3            1       1   30   \n",
       "3                       35          1            1       1   15   \n",
       "4                       33          1            1       1   15   \n",
       "\n",
       "   Customer Value  \n",
       "0         197.640  \n",
       "1          46.035  \n",
       "2        1536.520  \n",
       "3         240.020  \n",
       "4         145.805  "
      ],
      "text/html": [
       "<div>\n",
       "<style scoped>\n",
       "    .dataframe tbody tr th:only-of-type {\n",
       "        vertical-align: middle;\n",
       "    }\n",
       "\n",
       "    .dataframe tbody tr th {\n",
       "        vertical-align: top;\n",
       "    }\n",
       "\n",
       "    .dataframe thead th {\n",
       "        text-align: right;\n",
       "    }\n",
       "</style>\n",
       "<table border=\"1\" class=\"dataframe\">\n",
       "  <thead>\n",
       "    <tr style=\"text-align: right;\">\n",
       "      <th></th>\n",
       "      <th>Call Failure</th>\n",
       "      <th>Complaints</th>\n",
       "      <th>Subscription Length</th>\n",
       "      <th>Charge Amount</th>\n",
       "      <th>Seconds of Use</th>\n",
       "      <th>Frequency of use</th>\n",
       "      <th>Frequency of SMS</th>\n",
       "      <th>Distinct Called Numbers</th>\n",
       "      <th>Age Group</th>\n",
       "      <th>Tariff Plan</th>\n",
       "      <th>Status</th>\n",
       "      <th>Age</th>\n",
       "      <th>Customer Value</th>\n",
       "    </tr>\n",
       "  </thead>\n",
       "  <tbody>\n",
       "    <tr>\n",
       "      <th>0</th>\n",
       "      <td>8</td>\n",
       "      <td>0</td>\n",
       "      <td>38</td>\n",
       "      <td>0</td>\n",
       "      <td>4370</td>\n",
       "      <td>71</td>\n",
       "      <td>5</td>\n",
       "      <td>17</td>\n",
       "      <td>3</td>\n",
       "      <td>1</td>\n",
       "      <td>1</td>\n",
       "      <td>30</td>\n",
       "      <td>197.640</td>\n",
       "    </tr>\n",
       "    <tr>\n",
       "      <th>1</th>\n",
       "      <td>0</td>\n",
       "      <td>0</td>\n",
       "      <td>39</td>\n",
       "      <td>0</td>\n",
       "      <td>318</td>\n",
       "      <td>5</td>\n",
       "      <td>7</td>\n",
       "      <td>4</td>\n",
       "      <td>2</td>\n",
       "      <td>1</td>\n",
       "      <td>2</td>\n",
       "      <td>25</td>\n",
       "      <td>46.035</td>\n",
       "    </tr>\n",
       "    <tr>\n",
       "      <th>2</th>\n",
       "      <td>10</td>\n",
       "      <td>0</td>\n",
       "      <td>37</td>\n",
       "      <td>0</td>\n",
       "      <td>2453</td>\n",
       "      <td>60</td>\n",
       "      <td>359</td>\n",
       "      <td>24</td>\n",
       "      <td>3</td>\n",
       "      <td>1</td>\n",
       "      <td>1</td>\n",
       "      <td>30</td>\n",
       "      <td>1536.520</td>\n",
       "    </tr>\n",
       "    <tr>\n",
       "      <th>3</th>\n",
       "      <td>10</td>\n",
       "      <td>0</td>\n",
       "      <td>38</td>\n",
       "      <td>0</td>\n",
       "      <td>4198</td>\n",
       "      <td>66</td>\n",
       "      <td>1</td>\n",
       "      <td>35</td>\n",
       "      <td>1</td>\n",
       "      <td>1</td>\n",
       "      <td>1</td>\n",
       "      <td>15</td>\n",
       "      <td>240.020</td>\n",
       "    </tr>\n",
       "    <tr>\n",
       "      <th>4</th>\n",
       "      <td>3</td>\n",
       "      <td>0</td>\n",
       "      <td>38</td>\n",
       "      <td>0</td>\n",
       "      <td>2393</td>\n",
       "      <td>58</td>\n",
       "      <td>2</td>\n",
       "      <td>33</td>\n",
       "      <td>1</td>\n",
       "      <td>1</td>\n",
       "      <td>1</td>\n",
       "      <td>15</td>\n",
       "      <td>145.805</td>\n",
       "    </tr>\n",
       "  </tbody>\n",
       "</table>\n",
       "</div>"
      ]
     },
     "execution_count": 6,
     "metadata": {},
     "output_type": "execute_result"
    }
   ],
   "execution_count": 6
  },
  {
   "metadata": {},
   "cell_type": "markdown",
   "source": "",
   "id": "4ce8d259aeab68b"
  },
  {
   "metadata": {
    "ExecuteTime": {
     "end_time": "2025-01-29T13:43:41.851144Z",
     "start_time": "2025-01-29T13:43:41.845252Z"
    }
   },
   "cell_type": "code",
   "source": "df.columns",
   "id": "4ad2a38c41c4b7df",
   "outputs": [
    {
     "data": {
      "text/plain": [
       "Index(['Call Failure', 'Complaints', 'Subscription Length', 'Charge Amount',\n",
       "       'Seconds of Use', 'Frequency of use', 'Frequency of SMS',\n",
       "       'Distinct Called Numbers', 'Age Group', 'Tariff Plan', 'Status', 'Age',\n",
       "       'Customer Value', 'Churn'],\n",
       "      dtype='object')"
      ]
     },
     "execution_count": 7,
     "metadata": {},
     "output_type": "execute_result"
    }
   ],
   "execution_count": 7
  },
  {
   "metadata": {
    "ExecuteTime": {
     "end_time": "2025-01-29T13:43:41.967190Z",
     "start_time": "2025-01-29T13:43:41.958467Z"
    }
   },
   "cell_type": "code",
   "source": [
    "y = df['Churn']\n",
    "y"
   ],
   "id": "83447994634c4388",
   "outputs": [
    {
     "data": {
      "text/plain": [
       "0       0\n",
       "1       0\n",
       "2       0\n",
       "3       0\n",
       "4       0\n",
       "       ..\n",
       "3096    0\n",
       "3097    0\n",
       "3099    1\n",
       "3123    0\n",
       "3131    1\n",
       "Name: Churn, Length: 2850, dtype: int64"
      ]
     },
     "execution_count": 8,
     "metadata": {},
     "output_type": "execute_result"
    }
   ],
   "execution_count": 8
  },
  {
   "metadata": {},
   "cell_type": "markdown",
   "source": "### Preprocessing",
   "id": "d60d7ac0c52384d0"
  },
  {
   "metadata": {},
   "cell_type": "markdown",
   "source": "I used Robust scalar because of the presence of outliers in the orginal datasets.\n",
   "id": "fe985e4dc632aed8"
  },
  {
   "metadata": {
    "ExecuteTime": {
     "end_time": "2025-01-29T20:01:30.066445Z",
     "start_time": "2025-01-29T20:01:30.061678Z"
    }
   },
   "cell_type": "code",
   "source": [
    "# Define feature groups\n",
    "binary_columns = ['Tariff Plan', 'Status', 'Complaints']\n",
    "ordinal_columns = ['Age Group', 'Charge Amount']\n",
    "log_transform_columns = ['Call Failure', 'Frequency of use', 'Frequency of SMS', 'Age']  # Columns for log transform\n",
    "boxcox_transform_columns = ['Seconds of Use', 'Distinct Called Numbers', 'Customer Value']  # Columns for Box-Cox\n",
    "reflect_transform_columns = ['Subscription Length']  # Columns for reflection transform\n"
   ],
   "id": "b7ef391ae286a986",
   "outputs": [],
   "execution_count": 81
  },
  {
   "metadata": {
    "ExecuteTime": {
     "end_time": "2025-01-29T13:43:42.327526Z",
     "start_time": "2025-01-29T13:43:42.323286Z"
    }
   },
   "cell_type": "code",
   "source": [
    "# Drop target variable\n",
    "#X = df.drop(columns=['Churn']).copy()"
   ],
   "id": "6085e57d1e4d3ed3",
   "outputs": [],
   "execution_count": 10
  },
  {
   "metadata": {
    "ExecuteTime": {
     "end_time": "2025-01-29T20:04:27.649538Z",
     "start_time": "2025-01-29T20:04:27.643122Z"
    }
   },
   "cell_type": "code",
   "source": [
    "#  fixed transformation functions \n",
    "\n",
    "# Custom binary transformation function\n",
    "def binary_change(x):\n",
    "    \"\"\"Convert 1 to 0 and 2 to 1 for binary columns that need it.\"\"\"\n",
    "    return np.where(x == 2, 1, np.where(x == 1, 0, x))\n",
    "\n",
    "# Custom function to apply binary_change only to specific columns\n",
    "def selective_binary_transform(X, columns_to_transform):\n",
    "    \"\"\"Apply binary_change only to specified columns.\"\"\"\n",
    "    X_transformed = X.copy()\n",
    "    for i, col in enumerate(binary_columns):\n",
    "        if col in columns_to_transform:\n",
    "            X_transformed[:, i] = binary_change(X_transformed[:, i])\n",
    "    return X_transformed\n",
    "\n",
    "def boxcox_transform(x):\n",
    "    \"\"\"Apply Box-Cox transformation ensuring positive values\"\"\"\n",
    "    x = np.clip(x, 1e-6, None)  # Ensure values are positive (>0)\n",
    "    return np.column_stack([boxcox(x[:, i])[0] for i in range(x.shape[1])])\n",
    "\n",
    "def reflect_transform(x):\n",
    "    \"\"\"Apply reflection transformation to 'Subscription Length'\"\"\"\n",
    "    return np.max(x, axis=0) - x\n",
    "\n",
    "def compute_call_efficiency(X):\n",
    "    \"\"\"Compute Call Efficiency = Seconds of Use / Frequency of Use\"\"\"\n",
    "    return (X[:, 0] / np.clip(X[:, 1], 1e-6, None)).reshape(-1, 1)  # Avoid division by zero"
   ],
   "id": "508bb8dd05bb9207",
   "outputs": [],
   "execution_count": 82
  },
  {
   "metadata": {
    "ExecuteTime": {
     "end_time": "2025-01-29T20:04:50.646918Z",
     "start_time": "2025-01-29T20:04:50.638658Z"
    }
   },
   "cell_type": "code",
   "source": [
    "# Preprocessor\n",
    "preprocessor = ColumnTransformer([\n",
    "    # Binary columns: Impute missing values and apply selective binary transformation\n",
    "    ('bin', Pipeline([\n",
    "        ('imputer', SimpleImputer(strategy='most_frequent')),\n",
    "        ('selective_binary', FunctionTransformer(\n",
    "            lambda X: selective_binary_transform(X, columns_to_transform=['Tariff Plan', 'Status']),\n",
    "            validate=False\n",
    "        ))\n",
    "    ]), binary_columns),\n",
    "\n",
    "    # Ordinal columns: Impute and scale\n",
    "    ('ord', Pipeline([\n",
    "        ('imputer', SimpleImputer(strategy='mean')),\n",
    "        ('scaler', RobustScaler())\n",
    "    ]), ordinal_columns),\n",
    "\n",
    "    # Compute 'Call Efficiency', log-transform, and scale\n",
    "    ('call_efficiency', Pipeline([\n",
    "        ('imputer', SimpleImputer(strategy='mean')),\n",
    "        ('call_eff', FunctionTransformer(compute_call_efficiency, validate=False)),\n",
    "        ('log', FunctionTransformer(np.log1p, validate=False)),\n",
    "        ('scaler', RobustScaler())\n",
    "    ]), ['Seconds of Use', 'Frequency of use']),\n",
    "\n",
    "    # Log transform specific columns\n",
    "    ('log', Pipeline([\n",
    "        ('imputer', SimpleImputer(strategy='mean')),\n",
    "        ('log_transform', FunctionTransformer(np.log1p, validate=False)),\n",
    "        ('scaler', RobustScaler())\n",
    "    ]), log_transform_columns),\n",
    "\n",
    "    # Box-Cox transform specific columns\n",
    "    ('boxcox', Pipeline([\n",
    "        ('imputer', SimpleImputer(strategy='mean')),\n",
    "        ('boxcox_transform', FunctionTransformer(boxcox_transform, validate=False)),\n",
    "        ('scaler', RobustScaler())\n",
    "    ]), boxcox_transform_columns),\n",
    "\n",
    "    # Reflect and log transform Subscription Length\n",
    "    ('reflect', Pipeline([\n",
    "        ('imputer', SimpleImputer(strategy='mean')),\n",
    "        ('reflect_transform', FunctionTransformer(reflect_transform, validate=False)),\n",
    "        ('log_transform', FunctionTransformer(np.log1p, validate=False)),\n",
    "        ('scaler', RobustScaler())\n",
    "    ]), reflect_transform_columns),\n",
    "])"
   ],
   "id": "e664c4be5bc12ab0",
   "outputs": [],
   "execution_count": 83
  },
  {
   "metadata": {
    "ExecuteTime": {
     "end_time": "2025-01-29T20:04:55.474265Z",
     "start_time": "2025-01-29T20:04:55.412522Z"
    }
   },
   "cell_type": "code",
   "source": [
    "# Apply Transformation\n",
    "\n",
    "X_transformed = preprocessor.fit_transform(X)\n",
    "\n"
   ],
   "id": "80bd2ee4d50b2ddc",
   "outputs": [],
   "execution_count": 84
  },
  {
   "metadata": {
    "ExecuteTime": {
     "end_time": "2025-01-29T20:04:56.686237Z",
     "start_time": "2025-01-29T20:04:56.681780Z"
    }
   },
   "cell_type": "code",
   "source": "X_transformed.shape",
   "id": "38e1917dd128f5a5",
   "outputs": [
    {
     "data": {
      "text/plain": [
       "(2850, 14)"
      ]
     },
     "execution_count": 85,
     "metadata": {},
     "output_type": "execute_result"
    }
   ],
   "execution_count": 85
  },
  {
   "metadata": {},
   "cell_type": "markdown",
   "source": "*Based off Preprocessing steps these are the columns in order*",
   "id": "e396aa23b11cc094"
  },
  {
   "metadata": {
    "ExecuteTime": {
     "end_time": "2025-01-29T20:08:27.996840Z",
     "start_time": "2025-01-29T20:08:27.993788Z"
    }
   },
   "cell_type": "code",
   "source": [
    "transformed_feature_names = [\n",
    "    'Tariff Plan', 'Status', 'Complaints',  # Binary columns\n",
    "    'Age Group', 'Charge Amount',  # Ordinal columns\n",
    "    'Call Efficiency',  # Computed feature\n",
    "    'Call Failure', 'Frequency of use', 'Frequency of SMS', 'Age',  # Log transform columns\n",
    "    'Seconds of Use', 'Distinct Called Numbers', 'Customer Value',  # Box-Cox transform columns\n",
    "    'Subscription Length'  # Reflect transform columns\n",
    "]"
   ],
   "id": "44fe6f20811d100f",
   "outputs": [],
   "execution_count": 96
  },
  {
   "metadata": {},
   "cell_type": "markdown",
   "source": "### Split Data into Test and Train",
   "id": "bb99cc125ba2236f"
  },
  {
   "metadata": {},
   "cell_type": "markdown",
   "source": "The distribution of \"churned\" vs. \"not churned\" is uneven, the default split (train_test_split) will likely result in an even further imbalance in the training and testing datasets. This could lead to poor model performance, especially for the underrepresented class.",
   "id": "c1771e4b8b4826f3"
  },
  {
   "metadata": {},
   "cell_type": "markdown",
   "source": "The best approach would be to stratify the split, which ensures that the proportion of each class in the target variable (Churn) is maintained in both the training and testing datasets.",
   "id": "2d29bb0682e4cfb3"
  },
  {
   "metadata": {
    "ExecuteTime": {
     "end_time": "2025-01-29T20:05:03.652904Z",
     "start_time": "2025-01-29T20:05:03.642773Z"
    }
   },
   "cell_type": "code",
   "source": [
    "# Stratified split to maintain the same proportion(distribution) of each class\n",
    "X_train, X_test, y_train, y_test = train_test_split(X_transformed, y, test_size=0.2, random_state=42, stratify=y)\n",
    "\n",
    "\n",
    "# Check the distribution of Churn in both training and test sets\n",
    "print(y_train.value_counts(normalize=True))\n",
    "print(y_test.value_counts(normalize=True))"
   ],
   "id": "face366f23846a4c",
   "outputs": [
    {
     "name": "stdout",
     "output_type": "stream",
     "text": [
      "Churn\n",
      "0    0.843421\n",
      "1    0.156579\n",
      "Name: proportion, dtype: float64\n",
      "Churn\n",
      "0    0.84386\n",
      "1    0.15614\n",
      "Name: proportion, dtype: float64\n"
     ]
    }
   ],
   "execution_count": 86
  },
  {
   "metadata": {},
   "cell_type": "markdown",
   "source": "### Evaluation Metric Function",
   "id": "eafa0921a6cba0c7"
  },
  {
   "metadata": {
    "ExecuteTime": {
     "end_time": "2025-01-29T20:05:05.606841Z",
     "start_time": "2025-01-29T20:05:05.602506Z"
    }
   },
   "cell_type": "code",
   "source": [
    "# Function to evaluate models using classification metrics\n",
    "def evaluate_classification_model(y_true, y_pred):\n",
    "    accuracy = accuracy_score(y_true, y_pred)\n",
    "    precision = precision_score(y_true, y_pred)\n",
    "    recall = recall_score(y_true, y_pred)\n",
    "    f1 = f1_score(y_true, y_pred)\n",
    "    auc = roc_auc_score(y_true, y_pred)\n",
    "    return accuracy, precision, recall, f1, auc"
   ],
   "id": "72bd1ba78cbe0246",
   "outputs": [],
   "execution_count": 87
  },
  {
   "metadata": {},
   "cell_type": "markdown",
   "source": "since the  dataset is small (2850 rows, 14 features) and imbalanced (15.6% churn customers), I'd be adjusting class weights in the model instead of resampling.",
   "id": "9aea9aec76a8ca85"
  },
  {
   "metadata": {},
   "cell_type": "markdown",
   "source": "*Compute Class Weights*",
   "id": "1a11c8220b92ac36"
  },
  {
   "metadata": {
    "ExecuteTime": {
     "end_time": "2025-01-29T20:05:07.695272Z",
     "start_time": "2025-01-29T20:05:07.688816Z"
    }
   },
   "cell_type": "code",
   "source": [
    "class_weights = compute_class_weight(class_weight='balanced', classes=np.unique(y), y=y)\n",
    "class_weight_dict = {cls: weight for cls, weight in zip(np.unique(y), class_weights)}\n",
    "\n",
    "# Compute scale_pos_weight for CatBoost\n",
    "scale_pos_weight = class_weight_dict[0] / class_weight_dict[1]  # Adjust based on class 0 & 1 ratio"
   ],
   "id": "a5e95a5b3c9cb99d",
   "outputs": [],
   "execution_count": 88
  },
  {
   "metadata": {
    "ExecuteTime": {
     "end_time": "2025-01-29T20:05:08.460223Z",
     "start_time": "2025-01-29T20:05:08.454016Z"
    }
   },
   "cell_type": "code",
   "source": [
    "# Define models with class weights where applicable\n",
    "models = {\n",
    "    \"Logistic Regression\": LogisticRegression(class_weight='balanced', random_state=42),\n",
    "    \"Random Forest Classifier\": RandomForestClassifier(class_weight='balanced', random_state=42),\n",
    "    \"CatBoosting Classifier\": CatBoostClassifier(scale_pos_weight=scale_pos_weight, verbose=0, random_seed=42),\n",
    "    \"SVC\": SVC(class_weight='balanced', probability=True, random_state=42),\n",
    "}"
   ],
   "id": "d740cd04a1821204",
   "outputs": [],
   "execution_count": 89
  },
  {
   "metadata": {
    "ExecuteTime": {
     "end_time": "2025-01-29T20:05:09.159162Z",
     "start_time": "2025-01-29T20:05:09.150533Z"
    }
   },
   "cell_type": "code",
   "source": [
    "# Define hyperparameter grids for RandomizedSearchCV (to be customized)\n",
    "param_grids = {\n",
    "    \"Logistic Regression\": {\n",
    "        'C': [0.01, 0.1, 1, 10],               # Regularization strength\n",
    "        'solver': ['liblinear', 'lbfgs'],       # Optimization algorithms\n",
    "        'max_iter': [100, 200, 300]             # Maximum iterations for convergence\n",
    "    },\n",
    "    \"Random Forest Classifier\": {\n",
    "        'n_estimators': [50, 100, 200, 500],    # Number of trees\n",
    "        'max_depth': [None, 10, 20, 30],         # Depth of trees\n",
    "        'min_samples_split': [2, 5, 10],         # Minimum samples to split a node\n",
    "        'min_samples_leaf': [1, 2, 4],           # Minimum samples at leaf node\n",
    "        'max_features': ['auto', 'sqrt', 'log2'] # Maximum features to consider at split\n",
    "    },\n",
    "    \"CatBoosting Classifier\": {\n",
    "        'iterations': [100, 200, 300],           # Number of boosting iterations\n",
    "        'learning_rate': [0.01, 0.05, 0.1],      # Step size for each boosting round\n",
    "        'depth': [4, 6, 8],                       # Depth of trees\n",
    "        'l2_leaf_reg': [1, 3, 5],                 # L2 regularization coefficient\n",
    "        'subsample': [0.6, 0.8, 1]                # Fraction of samples used for fitting each tree\n",
    "    },\n",
    "    \"SVC\": {\n",
    "        'C': [0.1, 1, 10, 100],                   # Regularization parameter\n",
    "        'kernel': ['linear', 'rbf'],              # Kernel type\n",
    "        'gamma': ['scale', 'auto'],               # Kernel coefficient\n",
    "        'degree': [3, 4, 5]                       # Degree of the polynomial kernel\n",
    "    },\n",
    "   \n",
    "}"
   ],
   "id": "19c83a842ee908ab",
   "outputs": [],
   "execution_count": 90
  },
  {
   "metadata": {
    "ExecuteTime": {
     "end_time": "2025-01-29T20:05:10.018391Z",
     "start_time": "2025-01-29T20:05:10.015101Z"
    }
   },
   "cell_type": "code",
   "source": [
    "# Lists to store results\n",
    "model_list = []\n",
    "auc_list = []\n",
    "\n",
    "# Dictionary to store the best parameters for each model\n",
    "best_params = {}"
   ],
   "id": "9114ada85afc26af",
   "outputs": [],
   "execution_count": 91
  },
  {
   "metadata": {
    "ExecuteTime": {
     "end_time": "2025-01-29T20:06:56.793166Z",
     "start_time": "2025-01-29T20:05:10.409072Z"
    }
   },
   "cell_type": "code",
   "source": [
    "# Iterate through models\n",
    "for model_name, model in models.items():\n",
    "    print(f\"Training {model_name}...\")\n",
    "\n",
    "    # Hyperparameter tuning using RandomizedSearchCV if a param_grid is defined\n",
    "    if model_name in param_grids:\n",
    "        print(\"Performing RandomizedSearchCV...\")\n",
    "        search = RandomizedSearchCV(model, param_distributions=param_grids[model_name],\n",
    "                                    n_iter=10, random_state=42, n_jobs=-1, cv=3)\n",
    "        search.fit(X_train, y_train)\n",
    "        model = search.best_estimator_\n",
    "\n",
    "        # Save the best parameters\n",
    "        best_params[model_name] = search.best_params_\n",
    "\n",
    "    # Train model\n",
    "    model.fit(X_train, y_train)\n",
    "\n",
    "    # Make predictions\n",
    "    y_train_pred = model.predict(X_train)\n",
    "    y_test_pred = model.predict(X_test)\n",
    "\n",
    "    # Evaluate Train and Test dataset\n",
    "    model_train_accuracy, model_train_precision, model_train_recall, model_train_f1, model_train_auc = evaluate_classification_model(y_train, y_train_pred)\n",
    "    model_test_accuracy, model_test_precision, model_test_recall, model_test_f1, model_test_auc = evaluate_classification_model(y_test, y_test_pred)\n",
    "\n",
    "    # Output model results\n",
    "    print(f\"Model performance for Training set - {model_name}\")\n",
    "    print(\"- Accuracy: {:.4f}\".format(model_train_accuracy))\n",
    "    print(\"- Precision: {:.4f}\".format(model_train_precision))\n",
    "    print(\"- Recall: {:.4f}\".format(model_train_recall))\n",
    "    print(\"- F1 Score: {:.4f}\".format(model_train_f1))\n",
    "    print(\"- AUC: {:.4f}\".format(model_train_auc))\n",
    "    print('----------------------------------')\n",
    "\n",
    "    print(f\"Model performance for Test set - {model_name}\")\n",
    "    print(\"- Accuracy: {:.4f}\".format(model_test_accuracy))\n",
    "    print(\"- Precision: {:.4f}\".format(model_test_precision))\n",
    "    print(\"- Recall: {:.4f}\".format(model_test_recall))\n",
    "    print(\"- F1 Score: {:.4f}\".format(model_test_f1))\n",
    "    print(\"- AUC: {:.4f}\".format(model_test_auc))\n",
    "\n",
    "    # Store results\n",
    "    model_list.append(model_name)\n",
    "    auc_list.append(model_test_auc)\n",
    "\n",
    "    print('=' * 35) # Demarcation between models performance scores\n",
    "    print('\\n')"
   ],
   "id": "134d5dbeea7fe971",
   "outputs": [
    {
     "name": "stdout",
     "output_type": "stream",
     "text": [
      "Training Logistic Regression...\n",
      "Performing RandomizedSearchCV...\n",
      "Model performance for Training set - Logistic Regression\n",
      "- Accuracy: 0.8553\n",
      "- Precision: 0.5233\n",
      "- Recall: 0.8487\n",
      "- F1 Score: 0.6474\n",
      "- AUC: 0.8526\n",
      "----------------------------------\n",
      "Model performance for Test set - Logistic Regression\n",
      "- Accuracy: 0.8509\n",
      "- Precision: 0.5135\n",
      "- Recall: 0.8539\n",
      "- F1 Score: 0.6414\n",
      "- AUC: 0.8521\n",
      "===================================\n",
      "\n",
      "\n",
      "Training Random Forest Classifier...\n",
      "Performing RandomizedSearchCV...\n",
      "Model performance for Training set - Random Forest Classifier\n",
      "- Accuracy: 0.9956\n",
      "- Precision: 0.9728\n",
      "- Recall: 1.0000\n",
      "- F1 Score: 0.9862\n",
      "- AUC: 0.9974\n",
      "----------------------------------\n",
      "Model performance for Test set - Random Forest Classifier\n",
      "- Accuracy: 0.9649\n",
      "- Precision: 0.9367\n",
      "- Recall: 0.8315\n",
      "- F1 Score: 0.8810\n",
      "- AUC: 0.9105\n",
      "===================================\n",
      "\n",
      "\n",
      "Training CatBoosting Classifier...\n",
      "Performing RandomizedSearchCV...\n",
      "Model performance for Training set - CatBoosting Classifier\n",
      "- Accuracy: 0.9908\n",
      "- Precision: 1.0000\n",
      "- Recall: 0.9412\n",
      "- F1 Score: 0.9697\n",
      "- AUC: 0.9706\n",
      "----------------------------------\n",
      "Model performance for Test set - CatBoosting Classifier\n",
      "- Accuracy: 0.9596\n",
      "- Precision: 0.9459\n",
      "- Recall: 0.7865\n",
      "- F1 Score: 0.8589\n",
      "- AUC: 0.8891\n",
      "===================================\n",
      "\n",
      "\n",
      "Training SVC...\n",
      "Performing RandomizedSearchCV...\n",
      "Model performance for Training set - SVC\n",
      "- Accuracy: 0.9715\n",
      "- Precision: 0.8544\n",
      "- Recall: 0.9860\n",
      "- F1 Score: 0.9155\n",
      "- AUC: 0.9774\n",
      "----------------------------------\n",
      "Model performance for Test set - SVC\n",
      "- Accuracy: 0.9421\n",
      "- Precision: 0.7642\n",
      "- Recall: 0.9101\n",
      "- F1 Score: 0.8308\n",
      "- AUC: 0.9291\n",
      "===================================\n",
      "\n",
      "\n"
     ]
    }
   ],
   "execution_count": 92
  },
  {
   "metadata": {
    "ExecuteTime": {
     "end_time": "2025-01-29T20:06:56.805593Z",
     "start_time": "2025-01-29T20:06:56.800916Z"
    }
   },
   "cell_type": "code",
   "source": [
    "# Store model names and their AUC scores in a list of tuples\n",
    "model_auc_pairs = list(zip(model_list, auc_list))"
   ],
   "id": "25ec8ba42c63347c",
   "outputs": [],
   "execution_count": 93
  },
  {
   "metadata": {
    "ExecuteTime": {
     "end_time": "2025-01-29T20:06:56.885151Z",
     "start_time": "2025-01-29T20:06:56.880774Z"
    }
   },
   "cell_type": "code",
   "source": [
    "# Sort the list by AUC in descending order\n",
    "sorted_model_auc_pairs = sorted(model_auc_pairs, key=lambda x: x[1], reverse=True)\n"
   ],
   "id": "fdf02a3668bf96cf",
   "outputs": [],
   "execution_count": 94
  },
  {
   "metadata": {
    "ExecuteTime": {
     "end_time": "2025-01-29T20:06:56.967970Z",
     "start_time": "2025-01-29T20:06:56.963876Z"
    }
   },
   "cell_type": "code",
   "source": [
    "#print the sorted results\n",
    "for model_name, auc in sorted_model_auc_pairs:\n",
    "    print(f\"{model_name}: Test AUC = {auc:.4f}\")"
   ],
   "id": "ad9d9c07ec6b2869",
   "outputs": [
    {
     "name": "stdout",
     "output_type": "stream",
     "text": [
      "SVC: Test AUC = 0.9291\n",
      "Random Forest Classifier: Test AUC = 0.9105\n",
      "CatBoosting Classifier: Test AUC = 0.8891\n",
      "Logistic Regression: Test AUC = 0.8521\n"
     ]
    }
   ],
   "execution_count": 95
  },
  {
   "metadata": {},
   "cell_type": "code",
   "outputs": [],
   "execution_count": null,
   "source": "",
   "id": "ce60fa661ebf38e1"
  },
  {
   "metadata": {},
   "cell_type": "markdown",
   "source": [
    "### *Analysis and Recommendation*:\n",
    "Based on the model performance metrics, Support Vector Classifier (SVC) emerges as the top-performing model for churn prediction. Here's why SVC stands out:\n",
    "\n",
    "            Model performance for Test set - SVC\n",
    "            - Accuracy: 0.9421\n",
    "            - Precision: 0.7642\n",
    "            - Recall: 0.9101\n",
    "            - F1 Score: 0.8308\n",
    "            - AUC: 0.9291\n",
    "\n",
    "\n",
    "*Recall*: 0.9101\n",
    "\n",
    "    SVC has the highest recall value, which is very crucial. Recall measures the model's ability to correctly identify churn customers (True Positives), and in this case, SVC ensures that a significant portion of churners is captured. This is especially important in scenarios where failing to identify churners (False Negatives) can lead to lost customers.\n",
    "    \n",
    "*AUC*: 0.9291\n",
    "\n",
    "    The AUC score of 0.9228 further validates SVC’s ability to differentiate between churn and non-churn customers effectively. A higher AUC indicates a robust model with good predictive power, which is critical when balancing both false positives and false negatives.\n",
    "\n",
    "*Precision*: 0.7642\n",
    "\n",
    "    While precision is not as high as some other models (e.g CatBoost), it is still at a reasonable level. This means that while SVC may flag some non churners as churners (False Positives), it isn't overloading retention efforts with unnecessary cases. The difference between precision and recall here is acceptable, as recall is prioritized to ensure that churners are identified.\n",
    "\n",
    "*F1 Score*: 0.8308\n",
    "\n",
    "    The F1 Score, which balances precision and recall, is also strong for SVC. This is another indicator that SVC maintains a good balance between identifying churn customers and limiting the number of non-churners incorrectly flagged as churners.\n",
    "\n",
    "*Conclusion*:\n",
    "\n",
    "       Given the business requirement to identify churn customers effectively, SVC stands out as the best model. The high recall ensures that the churners are being detected, and the AUC shows strong model separation between the two classes.Another Step of Hyperparameter tuning to improve Precision  would be made."
   ],
   "id": "477a693f7f7df64"
  },
  {
   "metadata": {},
   "cell_type": "markdown",
   "source": "### Second Phase of Model Tuning",
   "id": "3ab80e23088c6964"
  },
  {
   "metadata": {
    "ExecuteTime": {
     "end_time": "2025-01-29T20:11:19.528959Z",
     "start_time": "2025-01-29T20:11:19.525752Z"
    }
   },
   "cell_type": "code",
   "source": [
    "# Print the best parameters for SVC model if available\n",
    "if \"SVC\" in best_params:\n",
    "    print(\"\\nBest Parameters for SVC Model:\")\n",
    "    print(f\"SVC: {best_params['SVC']}\")\n",
    "else:\n",
    "    print(\"\\nNo best parameters found for SVC Model.\")"
   ],
   "id": "d6223683795baded",
   "outputs": [
    {
     "name": "stdout",
     "output_type": "stream",
     "text": [
      "\n",
      "Best Parameters for SVC Model:\n",
      "SVC: {'kernel': 'rbf', 'gamma': 'auto', 'degree': 4, 'C': 100}\n"
     ]
    }
   ],
   "execution_count": 97
  },
  {
   "metadata": {},
   "cell_type": "markdown",
   "source": [
    "Focusing  on Precision Metrics using GridSearchCV, great for Fine-tuning around best parameters\t\n",
    "\n",
    "To improve precision, we need to reduce false positives by adjusting class weights, regularization (C), kernel parameters, and decision thresholds.\n"
   ],
   "id": "4ff3a33b7b5b8999"
  },
  {
   "metadata": {
    "ExecuteTime": {
     "end_time": "2025-01-29T20:11:21.595833Z",
     "start_time": "2025-01-29T20:11:21.591757Z"
    }
   },
   "cell_type": "code",
   "source": [
    "# Define a precision-focused scorer\n",
    "precision_scorer = make_scorer(precision_score, average='binary')\n",
    "\n"
   ],
   "id": "2c119dfddf91d587",
   "outputs": [],
   "execution_count": 98
  },
  {
   "metadata": {
    "ExecuteTime": {
     "end_time": "2025-01-29T20:11:22.223480Z",
     "start_time": "2025-01-29T20:11:22.219174Z"
    }
   },
   "cell_type": "code",
   "source": [
    "# Refined parameter grid based on previous best values\n",
    "svc_param_grid = {\n",
    "    'C': [50, 100, 200],  # Fine-tuning around best C value\n",
    "    'kernel': ['rbf'],  # Keeping 'rbf' since it worked well\n",
    "    'gamma': ['auto'],  # Keeping 'auto'\n",
    "    'degree': [4]  # Keeping degree as found before\n",
    "}\n",
    "\n"
   ],
   "id": "492e0c7a63bd0a86",
   "outputs": [],
   "execution_count": 99
  },
  {
   "metadata": {
    "ExecuteTime": {
     "end_time": "2025-01-29T20:11:22.572589Z",
     "start_time": "2025-01-29T20:11:22.569031Z"
    }
   },
   "cell_type": "code",
   "source": [
    "# Initialize SVC model\n",
    "svc = SVC(class_weight='balanced', probability=True, random_state=42)\n"
   ],
   "id": "6f49d17ee0e14216",
   "outputs": [],
   "execution_count": 100
  },
  {
   "metadata": {
    "ExecuteTime": {
     "end_time": "2025-01-29T20:11:43.889669Z",
     "start_time": "2025-01-29T20:11:22.959366Z"
    }
   },
   "cell_type": "code",
   "source": [
    "\n",
    "# Perform GridSearchCV with precision optimization\n",
    "grid_search = GridSearchCV(svc, param_grid=svc_param_grid, scoring=precision_scorer, cv=5, n_jobs=-1)\n",
    "grid_search.fit(X_train, y_train)\n",
    "\n",
    "# Get best model\n",
    "best_svc = grid_search.best_estimator_\n",
    "\n",
    "# Print best parameters\n",
    "print(\"\\nBest Parameters for SVC (Precision Optimized - Grid Search):\")\n",
    "print(grid_search.best_params_)\n",
    "\n"
   ],
   "id": "9d7f777a6add954",
   "outputs": [
    {
     "name": "stdout",
     "output_type": "stream",
     "text": [
      "\n",
      "Best Parameters for SVC (Precision Optimized - Grid Search):\n",
      "{'C': 200, 'degree': 4, 'gamma': 'auto', 'kernel': 'rbf'}\n"
     ]
    }
   ],
   "execution_count": 101
  },
  {
   "metadata": {
    "ExecuteTime": {
     "end_time": "2025-01-29T20:11:44.547209Z",
     "start_time": "2025-01-29T20:11:43.918320Z"
    }
   },
   "cell_type": "code",
   "source": [
    "# Train best model\n",
    "best_svc.fit(X_train, y_train)\n",
    "\n",
    "# Make predictions\n",
    "y_train_pred = best_svc.predict(X_train)\n",
    "y_test_pred = best_svc.predict(X_test)\n",
    "\n",
    "# Get predicted probabilities for the positive class\n",
    "y_test_prob = best_svc.predict_proba(X_test)[:, 1]\n",
    "\n",
    "# Evaluate model performance\n",
    "train_acc, train_prec, train_recall, train_f1, train_auc = evaluate_classification_model(y_train, y_train_pred)\n",
    "test_acc, test_prec, test_recall, test_f1, test_auc = evaluate_classification_model(y_test, y_test_pred)\n",
    "\n",
    "# Print full model performance\n",
    "print(\"\\nModel Performance for SVC (Optimized for Precision)\")\n",
    "print(\"-\" * 40)\n",
    "print(\"Training Set:\")\n",
    "print(f\"- Accuracy: {train_acc:.4f}\")\n",
    "print(f\"- Precision: {train_prec:.4f}\")\n",
    "print(f\"- Recall: {train_recall:.4f}\")\n",
    "print(f\"- F1 Score: {train_f1:.4f}\")\n",
    "print(f\"- AUC: {train_auc:.4f}\")\n",
    "print(\"\\nTest Set:\")\n",
    "print(f\"- Accuracy: {test_acc:.4f}\")\n",
    "print(f\"- Precision: {test_prec:.4f}\")\n",
    "print(f\"- Recall: {test_recall:.4f}\")\n",
    "print(f\"- F1 Score: {test_f1:.4f}\")\n",
    "print(f\"- AUC: {test_auc:.4f}\")\n",
    "print(\"=\" * 40)"
   ],
   "id": "264486b2491f7a19",
   "outputs": [
    {
     "name": "stdout",
     "output_type": "stream",
     "text": [
      "\n",
      "Model Performance for SVC (Optimized for Precision)\n",
      "----------------------------------------\n",
      "Training Set:\n",
      "- Accuracy: 0.9754\n",
      "- Precision: 0.8698\n",
      "- Recall: 0.9916\n",
      "- F1 Score: 0.9267\n",
      "- AUC: 0.9820\n",
      "\n",
      "Test Set:\n",
      "- Accuracy: 0.9526\n",
      "- Precision: 0.8100\n",
      "- Recall: 0.9101\n",
      "- F1 Score: 0.8571\n",
      "- AUC: 0.9353\n",
      "========================================\n"
     ]
    }
   ],
   "execution_count": 102
  },
  {
   "metadata": {},
   "cell_type": "markdown",
   "source": "A better change in precision was noticed,  the model performes better. ",
   "id": "657727fa4759af6e"
  },
  {
   "metadata": {},
   "cell_type": "markdown",
   "source": "#### Feature Importance",
   "id": "94de8235c28b2cc0"
  },
  {
   "metadata": {
    "ExecuteTime": {
     "end_time": "2025-01-29T21:06:06.055750Z",
     "start_time": "2025-01-29T20:55:22.391759Z"
    }
   },
   "cell_type": "code",
   "source": [
    "explainer = shap.Explainer(best_svc.predict, X_train)\n",
    "shap_values = explainer(X_test)\n"
   ],
   "id": "22f0ba7920fc0b14",
   "outputs": [
    {
     "name": "stderr",
     "output_type": "stream",
     "text": [
      "PermutationExplainer explainer: 571it [10:43,  1.15s/it]                         \n"
     ]
    }
   ],
   "execution_count": 113
  },
  {
   "metadata": {
    "ExecuteTime": {
     "end_time": "2025-01-29T20:38:07.217118Z",
     "start_time": "2025-01-29T20:38:07.212930Z"
    }
   },
   "cell_type": "code",
   "source": "transformed_feature_names\n",
   "id": "c82ad2be2af51595",
   "outputs": [
    {
     "data": {
      "text/plain": [
       "['Tariff Plan',\n",
       " 'Status',\n",
       " 'Complaints',\n",
       " 'Age Group',\n",
       " 'Charge Amount',\n",
       " 'Call Efficiency',\n",
       " 'Call Failure',\n",
       " 'Frequency of use',\n",
       " 'Frequency of SMS',\n",
       " 'Age',\n",
       " 'Seconds of Use',\n",
       " 'Distinct Called Numbers',\n",
       " 'Customer Value',\n",
       " 'Subscription Length']"
      ]
     },
     "execution_count": 111,
     "metadata": {},
     "output_type": "execute_result"
    }
   ],
   "execution_count": 111
  },
  {
   "metadata": {
    "ExecuteTime": {
     "end_time": "2025-01-29T21:06:06.477331Z",
     "start_time": "2025-01-29T21:06:06.071101Z"
    }
   },
   "cell_type": "code",
   "source": [
    "# Plot SHAP summary plot with feature names\n",
    "shap.summary_plot(shap_values, X_test, feature_names=transformed_feature_names, show=False)\n",
    "plt.title('SHAP Summary Plot with Feature Importance to Predicting Churn')\n",
    "plt.show()"
   ],
   "id": "76d752ef749f9c92",
   "outputs": [
    {
     "data": {
      "text/plain": [
       "<Figure size 800x710 with 2 Axes>"
      ],
      "image/png": "[encoded data removed]"
     },
     "metadata": {},
     "output_type": "display_data"
    }
   ],
   "execution_count": 114
  },
  {
   "metadata": {},
   "cell_type": "markdown",
   "source": [
    "#### Insights:\n",
    "\n",
    "The features are listed in descending order of their impact on the model output (from top to bottom).\n",
    "\n",
    "1. Frequency of Use is a Key Predictor of Churn\n",
    "\t•\tCustomers with low frequency of use (blue dots) tend to contribute more positively to churn (right-side SHAP values).\n",
    "\t•\tHigh-frequency users (pink dots) are less likely to churn.\n",
    "\t•\tInsight: Encouraging engagement and usage through incentives, loyalty programs, or personalized offers can reduce churn.\n",
    "\n",
    "2. Call Failures Negatively Impact Retention\n",
    "\t•\tHigh call failures (pink) push SHAP values toward churn.\n",
    "\t•\tCustomers experiencing more failed calls are more likely to leave.\n",
    "\t•\tInsight: Improving network reliability and addressing call failure issues can enhance retention.\n",
    "\n",
    "3. Customer Status Matters\n",
    "\t•\tCustomer status (likely indicating active/inactive status) significantly impacts churn.\n",
    "\t•\tInsight: Proactively identifying customers transitioning to inactive status can help implement targeted retention strategies.\n",
    "\n",
    "4. Call Efficiency & Distinct Called Numbers Influence Churn\n",
    "\t•\tMore efficient and active communicators (high distinct called numbers and call efficiency) tend to have lower churn.\n",
    "\t•\tInsight: Encouraging regular communication and interaction, possibly through bundled call offers, could improve retention.\n",
    "\n",
    "5. Age & Age Group Show a Relationship with Churn\n",
    "\t•\tYounger or older age groups may have different churn patterns.\n",
    "\t•\tInsight: Different marketing and retention strategies should be tailored to specific age demographics.\n",
    "\n",
    "6. Complaints are a Strong Indicator of Churn\n",
    "\t•\tComplaints show a clear pattern affecting churn.\n",
    "\t•\tInsight: A responsive customer support system and proactive complaint resolution can help retain customers.\n",
    "\n",
    "7. Subscription Length and Churn\n",
    "\t•\tLonger subscription lengths tend to reduce churn risk.\n",
    "\t•\tInsight: Encouraging long-term subscriptions through discounts or loyalty benefits can help in customer retention.\n",
    "\n",
    "8. Seconds of Use & Frequency of SMS\n",
    "\t•\tHigher call duration and SMS usage correlate with lower churn.\n",
    "\t•\tInsight: Offering plans that encourage usage (e.g free SMS promotions or unlimited calling during certain hours) could be beneficial.\n",
    "\n",
    "\n",
    "*Business Actions to Reduce Churn*\n",
    "\n",
    "\t1.\tIncrease Engagement: Offer incentives for higher usage.\n",
    "\t2.\tImprove Network Quality: Reduce call failures.\n",
    "\t3.\tProactive Customer Support: Address complaints early.\n",
    "\t4.\tIdentify High-Risk Customers: Monitor inactive or low-usage customers.\n",
    "\t5.\tPersonalized Marketing: Segment customers by age and usage behavior.\n",
    "\t6.\tOptimize Tariff Plans: Adjust pricing or offer loyalty discounts.\n",
    "\t7.\tEncourage Long-Term Subscriptions: Provide incentives for staying longer.\n"
   ],
   "id": "28d9291ffd818c8c"
  },
  {
   "metadata": {},
   "cell_type": "markdown",
   "source": "### Visualize Model Performance ",
   "id": "f272077c184326dd"
  },
  {
   "metadata": {},
   "cell_type": "markdown",
   "source": "#### Confusion matrics\n",
   "id": "292f8c4030b765fd"
  },
  {
   "metadata": {
    "ExecuteTime": {
     "end_time": "2025-01-29T20:12:54.311465Z",
     "start_time": "2025-01-29T20:12:54.206391Z"
    }
   },
   "cell_type": "code",
   "source": [
    "cm = confusion_matrix(y_test, y_test_pred)\n",
    "sns.heatmap(cm, annot=True, fmt='d', cmap='Blues', xticklabels=['Class 0', 'Class 1'], yticklabels=['Class 0', 'Class 1'])\n",
    "plt.xlabel('Predicted')\n",
    "plt.ylabel('True')\n",
    "plt.title('Confusion Matrix')\n",
    "plt.show()"
   ],
   "id": "38cab2b439b653fe",
   "outputs": [
    {
     "data": {
      "text/plain": [
       "<Figure size 640x480 with 2 Axes>"
      ],
      "image/png": "[encoded data removed]"
     },
     "metadata": {},
     "output_type": "display_data"
    }
   ],
   "execution_count": 103
  },
  {
   "metadata": {},
   "cell_type": "markdown",
   "source": [
    "*Strengths*: The model successfully identifies most customers at risk of leaving(81/89), allowing for targeted retention efforts.\n",
    "\n",
    "*Considerations*: It misclassifies some loyal customers (19 cases), meaning retention incentives could be given unnecessarily, but this trade off is acceptable given the high recall."
   ],
   "id": "ddcd7f7b35a040d7"
  },
  {
   "metadata": {
    "ExecuteTime": {
     "end_time": "2025-01-29T20:15:44.731730Z",
     "start_time": "2025-01-29T20:15:44.646116Z"
    }
   },
   "cell_type": "code",
   "source": [
    "precision, recall, _ = precision_recall_curve(y_test, y_test_prob)\n",
    "plt.plot(recall, precision, color='b')\n",
    "plt.xlabel('Recall')\n",
    "plt.ylabel('Precision')\n",
    "plt.title('Precision-Recall Curve')\n",
    "plt.show()"
   ],
   "id": "d534b87b3ff947b4",
   "outputs": [
    {
     "data": {
      "text/plain": [
       "<Figure size 640x480 with 1 Axes>"
      ],
      "image/png": "[encoded data removed]"
     },
     "metadata": {},
     "output_type": "display_data"
    }
   ],
   "execution_count": 105
  },
  {
   "metadata": {},
   "cell_type": "markdown",
   "source": [
    "#### Insight :\n",
    "\n",
    "The model maintains high precision even at high recall levels, meaning it can identify most churners while keeping false positives relatively low.\n",
    "\n",
    "This means the  model is well calibrated for churn prediction. The businesses can trust its flagged churners and take action without excessive wasted effort on false alarms"
   ],
   "id": "92aeb09c446d369e"
  },
  {
   "metadata": {
    "ExecuteTime": {
     "end_time": "2025-01-29T20:15:46.950655Z",
     "start_time": "2025-01-29T20:15:46.853358Z"
    }
   },
   "cell_type": "code",
   "source": [
    "plt.plot([0, 1], [0, 1], linestyle='--')\n",
    "plt.plot(recall, precision, label='Precision-Recall curve')\n",
    "plt.xlabel('Recall')\n",
    "plt.ylabel('Precision')\n",
    "plt.title('Precision vs Recall')\n",
    "plt.legend(loc='best')\n",
    "plt.show()"
   ],
   "id": "e388b43fa44a2146",
   "outputs": [
    {
     "data": {
      "text/plain": [
       "<Figure size 640x480 with 1 Axes>"
      ],
      "image/png": "[encoded data removed]"
     },
     "metadata": {},
     "output_type": "display_data"
    }
   ],
   "execution_count": 106
  },
  {
   "metadata": {},
   "cell_type": "markdown",
   "source": [
    "#### Insight\n",
    "\n",
    "The diagonal dashed line represents a random classifier, meaning it has no predictive power.\n",
    "it would classify churn and non-churn customers purely by chance.\n",
    "\n",
    "\n",
    "The model's orange precision recall curve ; is well above this line, meaning it can correctly identify churners better than random guessing"
   ],
   "id": "75fb330302276ed0"
  }
 ],
 "metadata": {
  "kernelspec": {
   "display_name": "Python 3",
   "language": "python",
   "name": "python3"
  },
  "language_info": {
   "codemirror_mode": {
    "name": "ipython",
    "version": 2
   },
   "file_extension": ".py",
   "mimetype": "text/x-python",
   "name": "python",
   "nbconvert_exporter": "python",
   "pygments_lexer": "ipython2",
   "version": "2.7.6"
  }
 },
 "nbformat": 4,
 "nbformat_minor": 5
}
