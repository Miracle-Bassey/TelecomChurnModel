{
 "cells": [
  {
   "cell_type": "markdown",
   "id": "703bddb9fe7eee46",
   "metadata": {},
   "source": [
    "## Model Training"
   ]
  },
  {
   "cell_type": "markdown",
   "id": "a07c6a7be227209a",
   "metadata": {},
   "source": [
    "### 1.1 Import Packages and Data"
   ]
  },
  {
   "cell_type": "code",
   "id": "initial_id",
   "metadata": {
    "collapsed": true,
    "jupyter": {
     "outputs_hidden": true
    },
    "ExecuteTime": {
     "end_time": "2025-02-19T14:31:51.474662Z",
     "start_time": "2025-02-19T14:31:50.098924Z"
    }
   },
   "source": [
    "# Basic Imports\n",
    "import numpy as np\n",
    "import pandas as pd\n",
    "import matplotlib.pyplot as plt\n",
    "import seaborn as sns\n",
    "\n",
    "# Modelling\n",
    "from sklearn.metrics import accuracy_score, precision_score, recall_score, f1_score, roc_auc_score, make_scorer, confusion_matrix, roc_curve, precision_recall_curve\n",
    "from sklearn.model_selection import train_test_split, RandomizedSearchCV, GridSearchCV\n",
    "from sklearn.linear_model import LogisticRegression\n",
    "from sklearn.ensemble import RandomForestClassifier\n",
    "from sklearn.svm import SVC\n",
    "from catboost import CatBoostClassifier\n",
    "from sklearn.utils.class_weight import compute_class_weight\n",
    "from sklearn.utils import resample\n",
    "# SMOTE (Synthetic Minority Over-sampling Technique) to balance the class distribution\n",
    "from imblearn.over_sampling import SMOTE , ADASYN\n",
    "\n",
    "# FEature Importance\n",
    "import shap\n",
    "from sklearn.inspection import permutation_importance\n",
    "\n",
    "\n",
    "# Preprocessing\n",
    "from sklearn.preprocessing import RobustScaler, FunctionTransformer, PolynomialFeatures\n",
    "from sklearn.impute import SimpleImputer\n",
    "from sklearn.compose import ColumnTransformer\n",
    "from scipy.stats import boxcox\n",
    "from statsmodels.stats.outliers_influence import variance_inflation_factor\n",
    "from sklearn.pipeline import Pipeline\n",
    "\n",
    "# Error handling\n",
    "import warnings\n",
    "warnings.filterwarnings(\"ignore\")"
   ],
   "outputs": [
    {
     "name": "stderr",
     "output_type": "stream",
     "text": [
      "C:\\Users\\efrui\\anaconda3\\envs\\TelcomChurnModel\\Lib\\site-packages\\tqdm\\auto.py:21: TqdmWarning: IProgress not found. Please update jupyter and ipywidgets. See https://ipywidgets.readthedocs.io/en/stable/user_install.html\n",
      "  from .autonotebook import tqdm as notebook_tqdm\n"
     ]
    }
   ],
   "execution_count": 1
  },
  {
   "cell_type": "markdown",
   "id": "7ed40682b58dfc65",
   "metadata": {},
   "source": [
    "### Import the CSV Data as Pandas DataFrame"
   ]
  },
  {
   "cell_type": "code",
   "id": "c40cf2123f76587d",
   "metadata": {
    "ExecuteTime": {
     "end_time": "2025-02-19T14:31:51.566248Z",
     "start_time": "2025-02-19T14:31:51.544875Z"
    }
   },
   "source": [
    "df = pd.read_csv('data/customer_churn.csv')"
   ],
   "outputs": [],
   "execution_count": 2
  },
  {
   "cell_type": "code",
   "id": "6b016667d3cebec5",
   "metadata": {
    "ExecuteTime": {
     "end_time": "2025-02-19T14:31:51.938142Z",
     "start_time": "2025-02-19T14:31:51.926279Z"
    }
   },
   "source": [
    "df.info()"
   ],
   "outputs": [
    {
     "name": "stdout",
     "output_type": "stream",
     "text": [
      "<class 'pandas.core.frame.DataFrame'>\n",
      "RangeIndex: 3150 entries, 0 to 3149\n",
      "Data columns (total 14 columns):\n",
      " #   Column                   Non-Null Count  Dtype  \n",
      "---  ------                   --------------  -----  \n",
      " 0   Call Failure             3150 non-null   int64  \n",
      " 1   Complaints               3150 non-null   int64  \n",
      " 2   Subscription Length      3150 non-null   int64  \n",
      " 3   Charge Amount            3150 non-null   int64  \n",
      " 4   Seconds of Use           3150 non-null   int64  \n",
      " 5   Frequency of use         3150 non-null   int64  \n",
      " 6   Frequency of SMS         3150 non-null   int64  \n",
      " 7   Distinct Called Numbers  3150 non-null   int64  \n",
      " 8   Age Group                3150 non-null   int64  \n",
      " 9   Tariff Plan              3150 non-null   int64  \n",
      " 10  Status                   3150 non-null   int64  \n",
      " 11  Age                      3150 non-null   int64  \n",
      " 12  Customer Value           3150 non-null   float64\n",
      " 13  Churn                    3150 non-null   int64  \n",
      "dtypes: float64(1), int64(13)\n",
      "memory usage: 344.7 KB\n"
     ]
    }
   ],
   "execution_count": 3
  },
  {
   "cell_type": "markdown",
   "id": "dfc7c255521dc03",
   "metadata": {},
   "source": [
    "### Drop Duplicate"
   ]
  },
  {
   "cell_type": "code",
   "id": "1eba08f906bddedd",
   "metadata": {
    "ExecuteTime": {
     "end_time": "2025-02-19T14:31:52.052323Z",
     "start_time": "2025-02-19T14:31:52.044230Z"
    }
   },
   "source": [
    "df.drop_duplicates(inplace=True)  # Remove duplicate rows"
   ],
   "outputs": [],
   "execution_count": 4
  },
  {
   "cell_type": "markdown",
   "id": "aacc62f535f36f60",
   "metadata": {},
   "source": [
    "### Preparing X and Y variables"
   ]
  },
  {
   "cell_type": "code",
   "id": "fde627fa5da386cc",
   "metadata": {
    "ExecuteTime": {
     "end_time": "2025-02-19T14:31:52.096041Z",
     "start_time": "2025-02-19T14:31:52.091016Z"
    }
   },
   "source": [
    "X = df.drop(columns=['Churn']).copy()"
   ],
   "outputs": [],
   "execution_count": 5
  },
  {
   "cell_type": "code",
   "id": "a1114e849e91ceb8",
   "metadata": {
    "ExecuteTime": {
     "end_time": "2025-02-19T14:31:52.184775Z",
     "start_time": "2025-02-19T14:31:52.168221Z"
    }
   },
   "source": [
    "X.head()"
   ],
   "outputs": [
    {
     "data": {
      "text/plain": [
       "   Call Failure  Complaints  Subscription Length  Charge Amount  \\\n",
       "0             8           0                   38              0   \n",
       "1             0           0                   39              0   \n",
       "2            10           0                   37              0   \n",
       "3            10           0                   38              0   \n",
       "4             3           0                   38              0   \n",
       "\n",
       "   Seconds of Use  Frequency of use  Frequency of SMS  \\\n",
       "0            4370                71                 5   \n",
       "1             318                 5                 7   \n",
       "2            2453                60               359   \n",
       "3            4198                66                 1   \n",
       "4            2393                58                 2   \n",
       "\n",
       "   Distinct Called Numbers  Age Group  Tariff Plan  Status  Age  \\\n",
       "0                       17          3            1       1   30   \n",
       "1                        4          2            1       2   25   \n",
       "2                       24          3            1       1   30   \n",
       "3                       35          1            1       1   15   \n",
       "4                       33          1            1       1   15   \n",
       "\n",
       "   Customer Value  \n",
       "0         197.640  \n",
       "1          46.035  \n",
       "2        1536.520  \n",
       "3         240.020  \n",
       "4         145.805  "
      ],
      "text/html": [
       "<div>\n",
       "<style scoped>\n",
       "    .dataframe tbody tr th:only-of-type {\n",
       "        vertical-align: middle;\n",
       "    }\n",
       "\n",
       "    .dataframe tbody tr th {\n",
       "        vertical-align: top;\n",
       "    }\n",
       "\n",
       "    .dataframe thead th {\n",
       "        text-align: right;\n",
       "    }\n",
       "</style>\n",
       "<table border=\"1\" class=\"dataframe\">\n",
       "  <thead>\n",
       "    <tr style=\"text-align: right;\">\n",
       "      <th></th>\n",
       "      <th>Call Failure</th>\n",
       "      <th>Complaints</th>\n",
       "      <th>Subscription Length</th>\n",
       "      <th>Charge Amount</th>\n",
       "      <th>Seconds of Use</th>\n",
       "      <th>Frequency of use</th>\n",
       "      <th>Frequency of SMS</th>\n",
       "      <th>Distinct Called Numbers</th>\n",
       "      <th>Age Group</th>\n",
       "      <th>Tariff Plan</th>\n",
       "      <th>Status</th>\n",
       "      <th>Age</th>\n",
       "      <th>Customer Value</th>\n",
       "    </tr>\n",
       "  </thead>\n",
       "  <tbody>\n",
       "    <tr>\n",
       "      <th>0</th>\n",
       "      <td>8</td>\n",
       "      <td>0</td>\n",
       "      <td>38</td>\n",
       "      <td>0</td>\n",
       "      <td>4370</td>\n",
       "      <td>71</td>\n",
       "      <td>5</td>\n",
       "      <td>17</td>\n",
       "      <td>3</td>\n",
       "      <td>1</td>\n",
       "      <td>1</td>\n",
       "      <td>30</td>\n",
       "      <td>197.640</td>\n",
       "    </tr>\n",
       "    <tr>\n",
       "      <th>1</th>\n",
       "      <td>0</td>\n",
       "      <td>0</td>\n",
       "      <td>39</td>\n",
       "      <td>0</td>\n",
       "      <td>318</td>\n",
       "      <td>5</td>\n",
       "      <td>7</td>\n",
       "      <td>4</td>\n",
       "      <td>2</td>\n",
       "      <td>1</td>\n",
       "      <td>2</td>\n",
       "      <td>25</td>\n",
       "      <td>46.035</td>\n",
       "    </tr>\n",
       "    <tr>\n",
       "      <th>2</th>\n",
       "      <td>10</td>\n",
       "      <td>0</td>\n",
       "      <td>37</td>\n",
       "      <td>0</td>\n",
       "      <td>2453</td>\n",
       "      <td>60</td>\n",
       "      <td>359</td>\n",
       "      <td>24</td>\n",
       "      <td>3</td>\n",
       "      <td>1</td>\n",
       "      <td>1</td>\n",
       "      <td>30</td>\n",
       "      <td>1536.520</td>\n",
       "    </tr>\n",
       "    <tr>\n",
       "      <th>3</th>\n",
       "      <td>10</td>\n",
       "      <td>0</td>\n",
       "      <td>38</td>\n",
       "      <td>0</td>\n",
       "      <td>4198</td>\n",
       "      <td>66</td>\n",
       "      <td>1</td>\n",
       "      <td>35</td>\n",
       "      <td>1</td>\n",
       "      <td>1</td>\n",
       "      <td>1</td>\n",
       "      <td>15</td>\n",
       "      <td>240.020</td>\n",
       "    </tr>\n",
       "    <tr>\n",
       "      <th>4</th>\n",
       "      <td>3</td>\n",
       "      <td>0</td>\n",
       "      <td>38</td>\n",
       "      <td>0</td>\n",
       "      <td>2393</td>\n",
       "      <td>58</td>\n",
       "      <td>2</td>\n",
       "      <td>33</td>\n",
       "      <td>1</td>\n",
       "      <td>1</td>\n",
       "      <td>1</td>\n",
       "      <td>15</td>\n",
       "      <td>145.805</td>\n",
       "    </tr>\n",
       "  </tbody>\n",
       "</table>\n",
       "</div>"
      ]
     },
     "execution_count": 6,
     "metadata": {},
     "output_type": "execute_result"
    }
   ],
   "execution_count": 6
  },
  {
   "cell_type": "markdown",
   "id": "4ce8d259aeab68b",
   "metadata": {},
   "source": []
  },
  {
   "cell_type": "code",
   "id": "4ad2a38c41c4b7df",
   "metadata": {
    "ExecuteTime": {
     "end_time": "2025-02-19T14:31:52.281255Z",
     "start_time": "2025-02-19T14:31:52.275795Z"
    }
   },
   "source": [
    "df.columns"
   ],
   "outputs": [
    {
     "data": {
      "text/plain": [
       "Index(['Call Failure', 'Complaints', 'Subscription Length', 'Charge Amount',\n",
       "       'Seconds of Use', 'Frequency of use', 'Frequency of SMS',\n",
       "       'Distinct Called Numbers', 'Age Group', 'Tariff Plan', 'Status', 'Age',\n",
       "       'Customer Value', 'Churn'],\n",
       "      dtype='object')"
      ]
     },
     "execution_count": 7,
     "metadata": {},
     "output_type": "execute_result"
    }
   ],
   "execution_count": 7
  },
  {
   "cell_type": "code",
   "id": "83447994634c4388",
   "metadata": {
    "ExecuteTime": {
     "end_time": "2025-02-19T14:31:52.458957Z",
     "start_time": "2025-02-19T14:31:52.451425Z"
    }
   },
   "source": [
    "y = df['Churn']\n",
    "y"
   ],
   "outputs": [
    {
     "data": {
      "text/plain": [
       "0       0\n",
       "1       0\n",
       "2       0\n",
       "3       0\n",
       "4       0\n",
       "       ..\n",
       "3096    0\n",
       "3097    0\n",
       "3099    1\n",
       "3123    0\n",
       "3131    1\n",
       "Name: Churn, Length: 2850, dtype: int64"
      ]
     },
     "execution_count": 8,
     "metadata": {},
     "output_type": "execute_result"
    }
   ],
   "execution_count": 8
  },
  {
   "metadata": {},
   "cell_type": "markdown",
   "source": "### Split Data into Test and Train",
   "id": "bb99cc125ba2236f"
  },
  {
   "metadata": {},
   "cell_type": "markdown",
   "source": "The distribution of \"churned\" vs. \"not churned\" is uneven, the default split (train_test_split) will likely result in an even further imbalance in the training and testing datasets. This could lead to poor model performance, especially for the underrepresented class.",
   "id": "c1771e4b8b4826f3"
  },
  {
   "metadata": {},
   "cell_type": "markdown",
   "source": "The best approach would be to stratify the split, which ensures that the proportion of each class in the target variable (Churn) is maintained in both the training and testing datasets.",
   "id": "2d29bb0682e4cfb3"
  },
  {
   "metadata": {
    "ExecuteTime": {
     "end_time": "2025-02-19T14:31:52.709930Z",
     "start_time": "2025-02-19T14:31:52.688889Z"
    }
   },
   "cell_type": "code",
   "source": [
    "# Stratified split to maintain the same proportion(distribution) of each class\n",
    "# Split into Train (60%) and Temp (40%) \n",
    "X_train, X_temp, y_train, y_temp = train_test_split(X, y, test_size=0.4, random_state=42, stratify=y)\n",
    "\n",
    "# Split Temp into Validation (20%) and Test+Raw (20%) \n",
    "X_val, X_temp, y_val, y_temp = train_test_split(X_temp, y_temp, test_size=0.5, random_state=42, stratify=y_temp)\n",
    "\n",
    "#Split Temp into Test (10%) and Raw (10%) \n",
    "X_test, X_raw, y_test, y_raw = train_test_split(X_temp, y_temp, test_size=0.5, random_state=42, stratify=y_temp)\n",
    "\n",
    "# Print class distribution in each split\n",
    "print(\"Train Distribution:\\n\", y_train.value_counts(normalize=True))\n",
    "print(\"Validation Distribution:\\n\", y_val.value_counts(normalize=True))\n",
    "print(\"Test Distribution:\\n\", y_test.value_counts(normalize=True))\n",
    "print(\"Raw Data Distribution:\\n\", y_raw.value_counts(normalize=True))"
   ],
   "id": "face366f23846a4c",
   "outputs": [
    {
     "name": "stdout",
     "output_type": "stream",
     "text": [
      "Train Distribution:\n",
      " Churn\n",
      "0    0.843275\n",
      "1    0.156725\n",
      "Name: proportion, dtype: float64\n",
      "Validation Distribution:\n",
      " Churn\n",
      "0    0.84386\n",
      "1    0.15614\n",
      "Name: proportion, dtype: float64\n",
      "Test Distribution:\n",
      " Churn\n",
      "0    0.842105\n",
      "1    0.157895\n",
      "Name: proportion, dtype: float64\n",
      "Raw Data Distribution:\n",
      " Churn\n",
      "0    0.845614\n",
      "1    0.154386\n",
      "Name: proportion, dtype: float64\n"
     ]
    }
   ],
   "execution_count": 9
  },
  {
   "metadata": {},
   "cell_type": "markdown",
   "source": "### Preprocessing",
   "id": "d60d7ac0c52384d0"
  },
  {
   "metadata": {},
   "cell_type": "markdown",
   "source": "I used Robust scalar because of the presence of outliers in the orginal datasets.\n",
   "id": "fe985e4dc632aed8"
  },
  {
   "metadata": {
    "ExecuteTime": {
     "end_time": "2025-02-19T14:31:52.890103Z",
     "start_time": "2025-02-19T14:31:52.883736Z"
    }
   },
   "cell_type": "code",
   "source": [
    "# Define feature groups\n",
    "binary_columns = ['Tariff Plan', 'Status', 'Complaints']\n",
    "ordinal_columns = ['Age Group', 'Charge Amount']\n",
    "log_transform_columns = ['Call Failure', 'Frequency of use', 'Frequency of SMS', 'Age']  # Columns for log transform\n",
    "boxcox_transform_columns = ['Seconds of Use', 'Distinct Called Numbers', 'Customer Value']  # Columns for Box-Cox\n",
    "reflect_transform_columns = ['Subscription Length']  # Columns for reflection transform\n",
    "numerical_vars = log_transform_columns + boxcox_transform_columns + reflect_transform_columns"
   ],
   "id": "b7ef391ae286a986",
   "outputs": [],
   "execution_count": 10
  },
  {
   "metadata": {
    "ExecuteTime": {
     "end_time": "2025-02-19T14:31:53.089004Z",
     "start_time": "2025-02-19T14:31:53.081624Z"
    }
   },
   "cell_type": "code",
   "source": [
    "def binary_change(x):\n",
    "    \"\"\"Convert 1 to 0 and 2 to 1 for binary columns that need it.\"\"\"\n",
    "    return np.where(x == 2, 1, np.where(x == 1, 0, x))\n",
    "\n",
    "# 4. Apply binary transformation only to selected columns\n",
    "def selective_binary_transform(X, columns_to_transform):\n",
    "    \"\"\"Apply binary_change only to specified columns.\"\"\"\n",
    "    X_transformed = X.copy()\n",
    "    for i, col in enumerate(columns_to_transform):\n",
    "        X_transformed[:, i] = binary_change(X_transformed[:, i])\n",
    "    return X_transformed\n",
    "\n",
    "# 5. Box-Cox transformation (ensures positive values)\n",
    "def boxcox_transform(x):\n",
    "    \"\"\"Apply Box-Cox transformation ensuring positive values\"\"\"\n",
    "    x = np.clip(x, 1e-6, None)  # Ensure values are positive (>0)\n",
    "    return np.column_stack([boxcox(x[:, i])[0] for i in range(x.shape[1])])\n",
    "\n",
    "# 6. Reflect transformation for 'Subscription Length'\n",
    "def reflect_transform(x):\n",
    "    \"\"\"Apply reflection transformation to 'Subscription Length'\"\"\"\n",
    "    return np.max(x, axis=0) - x"
   ],
   "id": "508bb8dd05bb9207",
   "outputs": [],
   "execution_count": 11
  },
  {
   "metadata": {
    "ExecuteTime": {
     "end_time": "2025-02-19T14:31:53.161082Z",
     "start_time": "2025-02-19T14:31:53.153673Z"
    }
   },
   "cell_type": "code",
   "source": [
    "preprocessor = ColumnTransformer([\n",
    "    # 1. Binary columns: Impute missing values and apply selective binary transformation\n",
    "    ('bin', Pipeline([\n",
    "        ('imputer', SimpleImputer(strategy='most_frequent')),\n",
    "        ('selective_binary', FunctionTransformer(\n",
    "            lambda X: selective_binary_transform(X, columns_to_transform=['Tariff Plan', 'Status']),\n",
    "            validate=False\n",
    "        ))\n",
    "    ]), binary_columns),\n",
    "\n",
    "    # 2. Ordinal columns: Impute and scale\n",
    "    ('ord', Pipeline([\n",
    "        ('imputer', SimpleImputer(strategy='mean')),\n",
    "        ('scaler', RobustScaler())\n",
    "    ]), ordinal_columns),\n",
    "\n",
    "    # 3. Log transform specific columns (including Call Efficiency)\n",
    "    ('log', Pipeline([\n",
    "        ('imputer', SimpleImputer(strategy='mean')),\n",
    "        ('log_transform', FunctionTransformer(np.log1p, validate=False)),\n",
    "        ('scaler', RobustScaler())\n",
    "    ]), log_transform_columns),  # Now Call Efficiency is part of log transform\n",
    "\n",
    "    # 4. Box-Cox transform specific columns\n",
    "    ('boxcox', Pipeline([\n",
    "        ('imputer', SimpleImputer(strategy='mean')),\n",
    "        ('boxcox_transform', FunctionTransformer(boxcox_transform, validate=False)),\n",
    "        ('scaler', RobustScaler())\n",
    "    ]), boxcox_transform_columns),\n",
    "\n",
    "    # 5. Reflect and log transform Subscription Length\n",
    "    ('reflect', Pipeline([\n",
    "        ('imputer', SimpleImputer(strategy='mean')),\n",
    "        ('reflect_transform', FunctionTransformer(reflect_transform, validate=False)),\n",
    "        ('log_transform', FunctionTransformer(np.log1p, validate=False)),\n",
    "        ('scaler', RobustScaler())\n",
    "    ]), reflect_transform_columns),\n",
    "\n",
    "])\n"
   ],
   "id": "4eabbb9906a7311b",
   "outputs": [],
   "execution_count": 12
  },
  {
   "metadata": {
    "ExecuteTime": {
     "end_time": "2025-02-19T14:31:53.382776Z",
     "start_time": "2025-02-19T14:31:53.281185Z"
    }
   },
   "cell_type": "code",
   "source": [
    "\n",
    "\n",
    "# Apply transformations\n",
    "X_train_transformed = preprocessor.fit_transform(X_train)\n",
    "X_val_transformed = preprocessor.transform(X_val)\n",
    "X_test_transformed = preprocessor.transform(X_test)\n",
    "X_raw_transformed = preprocessor.transform(X_raw)\n"
   ],
   "id": "7ba66591d0e1ebfb",
   "outputs": [],
   "execution_count": 13
  },
  {
   "metadata": {
    "ExecuteTime": {
     "end_time": "2025-02-19T14:31:53.405710Z",
     "start_time": "2025-02-19T14:31:53.398820Z"
    }
   },
   "cell_type": "code",
   "source": "X_train_transformed.shape",
   "id": "38e1917dd128f5a5",
   "outputs": [
    {
     "data": {
      "text/plain": [
       "(1710, 13)"
      ]
     },
     "execution_count": 14,
     "metadata": {},
     "output_type": "execute_result"
    }
   ],
   "execution_count": 14
  },
  {
   "metadata": {
    "ExecuteTime": {
     "end_time": "2025-02-19T14:31:53.483635Z",
     "start_time": "2025-02-19T14:31:53.478295Z"
    }
   },
   "cell_type": "code",
   "source": "df.shape",
   "id": "5e1e4a6884b86284",
   "outputs": [
    {
     "data": {
      "text/plain": [
       "(2850, 14)"
      ]
     },
     "execution_count": 15,
     "metadata": {},
     "output_type": "execute_result"
    }
   ],
   "execution_count": 15
  },
  {
   "metadata": {},
   "cell_type": "markdown",
   "source": "*Based off Preprocessing steps these are the columns in new order*",
   "id": "e396aa23b11cc094"
  },
  {
   "metadata": {
    "ExecuteTime": {
     "end_time": "2025-02-19T14:31:53.573298Z",
     "start_time": "2025-02-19T14:31:53.567440Z"
    }
   },
   "cell_type": "code",
   "source": [
    "def get_feature_names(preprocessor, original_feature_names):\n",
    "    \"\"\"Extracts transformed feature names from ColumnTransformer.\"\"\"\n",
    "    feature_names = []\n",
    "\n",
    "    for name, transformer, columns in preprocessor.transformers_:\n",
    "        if isinstance(columns, list) or isinstance(columns, np.ndarray):\n",
    "            col_names = list(columns)\n",
    "        else:\n",
    "            col_names = original_feature_names[columns]  # Handle slices\n",
    "\n",
    "        # If the transformer is a Pipeline, get its last step\n",
    "        if isinstance(transformer, Pipeline):\n",
    "            transformer = transformer[-1]\n",
    "\n",
    "        # Maintain original column names without adding suffixes\n",
    "        feature_names.extend(col_names)\n",
    "\n",
    "    return feature_names\n",
    "\n",
    "# Get transformed feature names\n",
    "transformed_feature_names = get_feature_names(preprocessor, X_train.columns)\n",
    "\n",
    "# Print feature names in order of the transformed array\n",
    "print(transformed_feature_names)\n"
   ],
   "id": "4097fc0ed9b14077",
   "outputs": [
    {
     "name": "stdout",
     "output_type": "stream",
     "text": [
      "['Tariff Plan', 'Status', 'Complaints', 'Age Group', 'Charge Amount', 'Call Failure', 'Frequency of use', 'Frequency of SMS', 'Age', 'Seconds of Use', 'Distinct Called Numbers', 'Customer Value', 'Subscription Length']\n"
     ]
    }
   ],
   "execution_count": 16
  },
  {
   "cell_type": "markdown",
   "id": "eafa0921a6cba0c7",
   "metadata": {},
   "source": [
    "### Evaluation Metric Function"
   ]
  },
  {
   "cell_type": "code",
   "id": "72bd1ba78cbe0246",
   "metadata": {
    "ExecuteTime": {
     "end_time": "2025-02-19T14:31:53.656332Z",
     "start_time": "2025-02-19T14:31:53.651074Z"
    }
   },
   "source": [
    "# Function to evaluate models using classification metrics\n",
    "def evaluate_classification_model(y_train, y_train_pred, y_test, y_test_pred):\n",
    "    def compute_scores(y_true, y_pred):\n",
    "        return accuracy_score(y_true, y_pred), precision_score(y_true, y_pred), recall_score(y_true, y_pred), f1_score(y_true, y_pred), roc_auc_score(y_true, y_pred)\n",
    "\n",
    "    train_scores = compute_scores(y_train, y_train_pred)\n",
    "    test_scores = compute_scores(y_test, y_test_pred)\n",
    "    variance = tuple(t - te for t, te in zip(train_scores, test_scores))\n",
    "\n",
    "    return train_scores, test_scores, variance"
   ],
   "outputs": [],
   "execution_count": 17
  },
  {
   "cell_type": "markdown",
   "id": "9aea9aec76a8ca85",
   "metadata": {},
   "source": "since the  dataset is small  and imbalanced (15.6% making churn customers), I'd be adjusting class weights and applying oversampling the under represented class (churned-1) to avoid data and information loss."
  },
  {
   "metadata": {
    "ExecuteTime": {
     "end_time": "2025-02-19T14:31:53.733969Z",
     "start_time": "2025-02-19T14:31:53.713360Z"
    }
   },
   "cell_type": "code",
   "source": [
    "\n",
    "# Initialize ADASYN with desired ratio for generating synthetic samples\n",
    "adasyn = ADASYN(sampling_strategy='minority', random_state=42)\n",
    "X_train_resampled, y_train_resampled = adasyn.fit_resample(X_train_transformed, y_train)\n",
    "\n",
    "# Check the distribution of classes after ADASYN\n",
    "print(f'Before ADASYN: {y_train.value_counts()}')\n",
    "print(f'After ADASYN: {pd.Series(y_train_resampled).value_counts()}')\n"
   ],
   "id": "cfae564c3e62c7c9",
   "outputs": [
    {
     "name": "stdout",
     "output_type": "stream",
     "text": [
      "Before ADASYN: Churn\n",
      "0    1442\n",
      "1     268\n",
      "Name: count, dtype: int64\n",
      "After ADASYN: Churn\n",
      "1    1454\n",
      "0    1442\n",
      "Name: count, dtype: int64\n"
     ]
    }
   ],
   "execution_count": 18
  },
  {
   "cell_type": "markdown",
   "id": "1a11c8220b92ac36",
   "metadata": {},
   "source": [
    "*Compute Class Weights*"
   ]
  },
  {
   "metadata": {
    "ExecuteTime": {
     "end_time": "2025-02-19T14:31:53.805485Z",
     "start_time": "2025-02-19T14:31:53.799031Z"
    }
   },
   "cell_type": "code",
   "source": [
    "\n",
    "# Compute class weights\n",
    "class_weights = compute_class_weight(class_weight='balanced', classes=np.unique(y_train_resampled), y=y_train_resampled)\n",
    "class_weight_dict = {cls: weight for cls, weight in zip(np.unique(y_train_resampled), class_weights)}\n",
    "\n",
    "# Compute scale_pos_weight for CatBoost\n",
    "scale_pos_weight = class_weight_dict[0] / class_weight_dict[1]\n"
   ],
   "id": "23efa298996b38ca",
   "outputs": [],
   "execution_count": 19
  },
  {
   "metadata": {
    "ExecuteTime": {
     "end_time": "2025-02-19T14:31:53.878593Z",
     "start_time": "2025-02-19T14:31:53.873072Z"
    }
   },
   "cell_type": "code",
   "source": [
    "# Define models with class weights where necessary\n",
    "models = {\n",
    "    \"Logistic Regression\": LogisticRegression(class_weight=class_weight_dict, random_state=42),\n",
    "    \"Random Forest Classifier\": RandomForestClassifier(class_weight=class_weight_dict, random_state=42),\n",
    "    \"CatBoosting Classifier\": CatBoostClassifier(scale_pos_weight=scale_pos_weight, verbose=0, random_seed=42),\n",
    "    \"SVC\": SVC(class_weight=class_weight_dict, probability=True, random_state=42),\n",
    "}"
   ],
   "id": "a52cd6170978a16f",
   "outputs": [],
   "execution_count": 20
  },
  {
   "metadata": {
    "ExecuteTime": {
     "end_time": "2025-02-19T14:31:54.004864Z",
     "start_time": "2025-02-19T14:31:53.994873Z"
    }
   },
   "cell_type": "code",
   "source": [
    "\n",
    "# Define hyperparameter grids for RandomizedSearchCV (to be customized)\n",
    "param_grids = {\n",
    "    \"Logistic Regression\": {\n",
    "        'C': [500, 1000],  # Regularization strength\n",
    "        'solver': ['liblinear', 'lbfgs'],  # Optimization algorithms\n",
    "        'max_iter': [100, 200, 300, 400]  # Maximum iterations for convergence\n",
    "    },\n",
    "    \"Random Forest Classifier\": {\n",
    "        'n_estimators': [50, 100, 200, 500],  # Number of trees\n",
    "        'max_depth': [None, 10, 20, 30],  # Depth of trees\n",
    "        'min_samples_split': [2, 5, 10],  # Minimum samples to split a node\n",
    "        'min_samples_leaf': [1, 2, 4],  # Minimum samples at leaf node\n",
    "        'max_features': ['auto', 'sqrt', 'log2']  # Maximum features to consider at split\n",
    "    },\n",
    "    \"CatBoosting Classifier\": {\n",
    "        'iterations': [100, 200, 300],  # Number of boosting iterations\n",
    "        'learning_rate': [0.01, 0.05, 0.1],  # Step size for each boosting round\n",
    "        'depth': [4, 6, 8],  # Depth of trees\n",
    "        'l2_leaf_reg': [1, 3, 5],  # L2 regularization coefficient\n",
    "        'subsample': [0.6, 0.8, 1]  # Fraction of samples used for fitting each tree\n",
    "    },\n",
    "    \"SVC\": {\n",
    "        'C': [0.1, 1, 10, 100],  # Regularization parameter\n",
    "        'kernel': ['linear', 'rbf'],  # Kernel type\n",
    "        'gamma': ['scale', 'auto'],  # Kernel coefficient\n",
    "        'degree': [3, 4, 5,10]  # Degree of the polynomial kernel\n",
    "    },\n",
    "}"
   ],
   "id": "9084f151e1111999",
   "outputs": [],
   "execution_count": 21
  },
  {
   "metadata": {
    "ExecuteTime": {
     "end_time": "2025-02-19T14:31:54.084858Z",
     "start_time": "2025-02-19T14:31:54.079387Z"
    }
   },
   "cell_type": "code",
   "source": [
    "# Lists to store results\n",
    "model_list = []\n",
    "auc_list = []\n",
    "\n",
    "# Dictionary to store the best parameters for each model\n",
    "best_params = {}\n",
    "# Dictionary to store trained models\n",
    "trained_models = {}"
   ],
   "id": "80836dca20aa21a4",
   "outputs": [],
   "execution_count": 22
  },
  {
   "metadata": {
    "ExecuteTime": {
     "end_time": "2025-02-19T14:36:13.242284Z",
     "start_time": "2025-02-19T14:31:54.146984Z"
    }
   },
   "cell_type": "code",
   "source": [
    "for model_name, model in models.items():\n",
    "    print(f\"Training {model_name}...\")\n",
    "\n",
    "    # Hyperparameter tuning\n",
    "    if model_name in param_grids:\n",
    "        print(\"Performing RandomizedSearchCV...\")\n",
    "        search = RandomizedSearchCV(model, param_distributions=param_grids[model_name],\n",
    "                                    n_iter=10, random_state=42, n_jobs=-1, cv=3)\n",
    "        search.fit(X_train_resampled, y_train_resampled)\n",
    "        model = search.best_estimator_\n",
    "        best_params[model_name] = search.best_params_\n",
    "\n",
    "    # Train model\n",
    "    model.fit(X_train_resampled, y_train_resampled)\n",
    "    trained_models[model_name] = model  # Store the trained model\n",
    "\n",
    "    # Predict on train and validation sets\n",
    "    y_train_pred = model.predict(X_train_resampled)\n",
    "    y_val_pred = model.predict(X_val_transformed)\n",
    "\n",
    "    # Evaluate train and validation scores\n",
    "    train_scores, val_scores, variance = evaluate_classification_model(y_train_resampled, y_train_pred, y_val,\n",
    "                                                                       y_val_pred)\n",
    "\n",
    "    print(f\"\\n {model_name} Results\")\n",
    "    print(\"-\" * 30)\n",
    "    print(\n",
    "        f\"\\n Train Scores: Accuracy: {train_scores[0]:.4f}, Precision: {train_scores[1]:.4f}, Recall: {train_scores[2]:.4f}, F1-Score: {train_scores[3]:.4f}, AUC: {train_scores[4]:.4f}\")\n",
    "    print(\n",
    "        f\" Validation Scores: Accuracy: {val_scores[0]:.4f}, Precision: {val_scores[1]:.4f}, Recall: {val_scores[2]:.4f}, F1-Score: {val_scores[3]:.4f}, AUC: {val_scores[4]:.4f}\")\n",
    "    print(\n",
    "        f\" Variance: Accuracy: {variance[0]:.4f}, Precision: {variance[1]:.4f}, Recall: {variance[2]:.4f}, F1-Score: {variance[3]:.4f}, AUC: {variance[4]:.4f}\")\n",
    "\n",
    "    # Store results\n",
    "    model_list.append(model_name)\n",
    "    auc_list.append(val_scores[4])\n",
    "\n",
    "# Model comparison\n",
    "results = pd.DataFrame({'Model': model_list, 'AUC': auc_list})\n",
    "print(\"\\nModel Comparison:\")\n",
    "print(results)\n"
   ],
   "id": "9feae70afa601d4a",
   "outputs": [
    {
     "name": "stdout",
     "output_type": "stream",
     "text": [
      "Training Logistic Regression...\n",
      "Performing RandomizedSearchCV...\n",
      "\n",
      " Logistic Regression Results\n",
      "------------------------------\n",
      "\n",
      " Train Scores: Accuracy: 0.8367, Precision: 0.8457, Recall: 0.8253, F1-Score: 0.8354, AUC: 0.8367\n",
      " Validation Scores: Accuracy: 0.8228, Precision: 0.4639, Recall: 0.8652, F1-Score: 0.6039, AUC: 0.8401\n",
      " Variance: Accuracy: 0.0139, Precision: 0.3818, Recall: -0.0399, F1-Score: 0.2314, AUC: -0.0034\n",
      "Training Random Forest Classifier...\n",
      "Performing RandomizedSearchCV...\n",
      "\n",
      " Random Forest Classifier Results\n",
      "------------------------------\n",
      "\n",
      " Train Scores: Accuracy: 0.9986, Precision: 0.9973, Recall: 1.0000, F1-Score: 0.9986, AUC: 0.9986\n",
      " Validation Scores: Accuracy: 0.9368, Precision: 0.8046, Recall: 0.7865, F1-Score: 0.7955, AUC: 0.8756\n",
      " Variance: Accuracy: 0.0618, Precision: 0.1927, Recall: 0.2135, F1-Score: 0.2032, AUC: 0.1230\n",
      "Training CatBoosting Classifier...\n",
      "Performing RandomizedSearchCV...\n",
      "\n",
      " CatBoosting Classifier Results\n",
      "------------------------------\n",
      "\n",
      " Train Scores: Accuracy: 0.9962, Precision: 0.9925, Recall: 1.0000, F1-Score: 0.9962, AUC: 0.9962\n",
      " Validation Scores: Accuracy: 0.9316, Precision: 0.7604, Recall: 0.8202, F1-Score: 0.7892, AUC: 0.8862\n",
      " Variance: Accuracy: 0.0646, Precision: 0.2321, Recall: 0.1798, F1-Score: 0.2070, AUC: 0.1100\n",
      "Training SVC...\n",
      "Performing RandomizedSearchCV...\n",
      "\n",
      " SVC Results\n",
      "------------------------------\n",
      "\n",
      " Train Scores: Accuracy: 0.9810, Precision: 0.9660, Recall: 0.9972, F1-Score: 0.9814, AUC: 0.9809\n",
      " Validation Scores: Accuracy: 0.9281, Precision: 0.7353, Recall: 0.8427, F1-Score: 0.7853, AUC: 0.8933\n",
      " Variance: Accuracy: 0.0529, Precision: 0.2307, Recall: 0.1546, F1-Score: 0.1960, AUC: 0.0877\n",
      "\n",
      "Model Comparison:\n",
      "                      Model       AUC\n",
      "0       Logistic Regression  0.840069\n",
      "1  Random Forest Classifier  0.875587\n",
      "2    CatBoosting Classifier  0.886204\n",
      "3                       SVC  0.893282\n"
     ]
    }
   ],
   "execution_count": 23
  },
  {
   "metadata": {},
   "cell_type": "markdown",
   "source": [
    "#### Insight: \n",
    "The ability of the model predicting true positive which is precision is more importatnt to me, and to do this I also need to take into consideration overfitting between train and validation set, this means variance is important and choosing model with the lowest variance is paramount. With that being said, CatBoosting Classifiers performs the best overall.  "
   ],
   "id": "3762b44cc69465c5"
  },
  {
   "cell_type": "code",
   "id": "25ec8ba42c63347c",
   "metadata": {
    "ExecuteTime": {
     "end_time": "2025-02-19T14:36:13.317457Z",
     "start_time": "2025-02-19T14:36:13.313227Z"
    }
   },
   "source": [
    "# Store model names and their AUC scores in a list of tuples\n",
    "model_auc_pairs = list(zip(model_list, auc_list))"
   ],
   "outputs": [],
   "execution_count": 24
  },
  {
   "cell_type": "code",
   "id": "fdf02a3668bf96cf",
   "metadata": {
    "ExecuteTime": {
     "end_time": "2025-02-19T14:36:13.404923Z",
     "start_time": "2025-02-19T14:36:13.400438Z"
    }
   },
   "source": [
    "# Sort the list by AUC in descending order\n",
    "sorted_model_auc_pairs = sorted(model_auc_pairs, key=lambda x: x[1], reverse=True)\n"
   ],
   "outputs": [],
   "execution_count": 25
  },
  {
   "cell_type": "code",
   "id": "ad9d9c07ec6b2869",
   "metadata": {
    "ExecuteTime": {
     "end_time": "2025-02-19T14:36:13.478456Z",
     "start_time": "2025-02-19T14:36:13.473722Z"
    }
   },
   "source": [
    "#print the sorted results\n",
    "for model_name, auc in sorted_model_auc_pairs:\n",
    "    print(f\"{model_name}: Val AUC = {auc:.4f}\")"
   ],
   "outputs": [
    {
     "name": "stdout",
     "output_type": "stream",
     "text": [
      "SVC: Val AUC = 0.8933\n",
      "CatBoosting Classifier: Val AUC = 0.8862\n",
      "Random Forest Classifier: Val AUC = 0.8756\n",
      "Logistic Regression: Val AUC = 0.8401\n"
     ]
    }
   ],
   "execution_count": 26
  },
  {
   "metadata": {},
   "cell_type": "markdown",
   "source": "",
   "id": "9c925e97575d2332"
  },
  {
   "metadata": {},
   "cell_type": "code",
   "outputs": [],
   "execution_count": null,
   "source": "",
   "id": "73801abf7f79fe43"
  },
  {
   "metadata": {},
   "cell_type": "code",
   "outputs": [],
   "execution_count": null,
   "source": "",
   "id": "198ec8f2adbf5634"
  },
  {
   "metadata": {},
   "cell_type": "code",
   "outputs": [],
   "execution_count": null,
   "source": "",
   "id": "ce1d1e611408790d"
  },
  {
   "metadata": {},
   "cell_type": "code",
   "outputs": [],
   "execution_count": null,
   "source": "",
   "id": "5c6b098766e9d3d8"
  },
  {
   "metadata": {},
   "cell_type": "markdown",
   "source": "",
   "id": "be2a21d387ca7409"
  },
  {
   "cell_type": "markdown",
   "id": "94de8235c28b2cc0",
   "metadata": {},
   "source": [
    "#### Feature Importance"
   ]
  },
  {
   "metadata": {
    "ExecuteTime": {
     "end_time": "2025-02-19T18:16:49.657334Z",
     "start_time": "2025-02-19T18:16:49.628841Z"
    }
   },
   "cell_type": "code",
   "source": [
    "# Feature importance analysis for Catboost model\n",
    "for model_name, model in trained_models.items():\n",
    "    if isinstance(model, CatBoostClassifier):\n",
    "        print(f\"Feature Importance for {model_name}:\")\n",
    "\n",
    "        # Get feature importance values\n",
    "        feature_importances = model.get_feature_importance()\n",
    "\n",
    "        # Ensure transformed feature names exist\n",
    "        if 'transformed_feature_names' in locals() and len(transformed_feature_names) == len(feature_importances):\n",
    "            feature_names = transformed_feature_names\n",
    "        else:\n",
    "            feature_names = [f\"Feature_{i}\" for i in range(len(feature_importances))]  # Fallback to indices\n",
    "\n",
    "        # Create DataFrame with feature importance\n",
    "        feature_imp_df = pd.DataFrame({'Feature': feature_names, 'Importance': feature_importances})\n",
    "\n",
    "        # Sort by importance without resetting the index\n",
    "        top_features_df = feature_imp_df.sort_values(by='Importance', ascending=False)\n",
    "\n",
    "        # Get only the top N features\n",
    "        top_features = top_features_df.head(10)\n",
    "\n",
    "        # Print results\n",
    "        print(top_features_df)"
   ],
   "id": "335ed71cb9ea51ef",
   "outputs": [
    {
     "name": "stdout",
     "output_type": "stream",
     "text": [
      "Feature Importance for CatBoosting Classifier:\n",
      "                    Feature  Importance\n",
      "1                    Status   15.060720\n",
      "12      Subscription Length   12.454266\n",
      "2                Complaints   11.695471\n",
      "10  Distinct Called Numbers   10.439507\n",
      "6          Frequency of use   10.313013\n",
      "5              Call Failure    9.190873\n",
      "9            Seconds of Use    8.131267\n",
      "8                       Age    6.644082\n",
      "7          Frequency of SMS    5.410527\n",
      "11           Customer Value    4.993529\n",
      "3                 Age Group    4.944099\n",
      "4             Charge Amount    0.613440\n",
      "0               Tariff Plan    0.109207\n"
     ]
    }
   ],
   "execution_count": 53
  },
  {
   "metadata": {
    "ExecuteTime": {
     "end_time": "2025-02-19T18:17:04.807291Z",
     "start_time": "2025-02-19T18:17:04.323271Z"
    }
   },
   "cell_type": "code",
   "source": [
    "plt.figure(figsize=(10, 6))\n",
    "sns.barplot(x=\"Importance\", y=\"Feature\", data=top_features_df, palette=\"viridis\")\n",
    "\n",
    "# title\n",
    "plt.xlabel(\"Feature Importance Score\")\n",
    "plt.ylabel(\"Feature\")\n",
    "plt.title(\"Feature Importance for CatBoost Classifier\")\n",
    "plt.show()"
   ],
   "id": "2496faaca75363ae",
   "outputs": [
    {
     "data": {
      "text/plain": [
       "<Figure size 1000x600 with 1 Axes>"
      ],
      "image/png": "[encoded data removed]"
     },
     "metadata": {},
     "output_type": "display_data"
    }
   ],
   "execution_count": 54
  },
  {
   "metadata": {},
   "cell_type": "markdown",
   "source": [
    "#### Insights\n",
    "Status Strongly affects churn prediction, \n",
    "Subscription Length is also Highly influential, Longer/shorter subscriptions may indicate churn. \n",
    "More complaints leads to higher churn risk. \n",
    "How often customers use the service also impacts churn.\n",
    "Least important\tfeature, the Tariff plan has minimal impact on churn."
   ],
   "id": "45b72453869f42c6"
  },
  {
   "metadata": {},
   "cell_type": "markdown",
   "source": "### Retrain best model with important features ",
   "id": "87f1215e27523996"
  },
  {
   "metadata": {
    "ExecuteTime": {
     "end_time": "2025-02-19T18:19:58.179478Z",
     "start_time": "2025-02-19T18:19:58.174592Z"
    }
   },
   "cell_type": "code",
   "source": [
    "# Store feature indices of the top 10 important features\n",
    "selected_feature_indices = top_features.index.tolist()\n",
    "\n",
    "print(f\"Selected Feature Indices:{selected_feature_indices}\")"
   ],
   "id": "ba35a83777382436",
   "outputs": [
    {
     "name": "stdout",
     "output_type": "stream",
     "text": [
      "Selected Feature Indices:[1, 12, 2, 10, 6, 5, 9, 8, 7, 11]\n"
     ]
    }
   ],
   "execution_count": 56
  },
  {
   "metadata": {
    "ExecuteTime": {
     "end_time": "2025-02-19T14:45:15.750091Z",
     "start_time": "2025-02-19T14:45:15.742065Z"
    }
   },
   "cell_type": "code",
   "source": "best_params",
   "id": "4c4f20b981381410",
   "outputs": [
    {
     "data": {
      "text/plain": [
       "{'Logistic Regression': {'solver': 'liblinear', 'max_iter': 100, 'C': 500},\n",
       " 'Random Forest Classifier': {'n_estimators': 500,\n",
       "  'min_samples_split': 2,\n",
       "  'min_samples_leaf': 1,\n",
       "  'max_features': 'log2',\n",
       "  'max_depth': None},\n",
       " 'CatBoosting Classifier': {'subsample': 0.8,\n",
       "  'learning_rate': 0.05,\n",
       "  'l2_leaf_reg': 5,\n",
       "  'iterations': 300,\n",
       "  'depth': 8},\n",
       " 'SVC': {'kernel': 'rbf', 'gamma': 'scale', 'degree': 10, 'C': 100}}"
      ]
     },
     "execution_count": 37,
     "metadata": {},
     "output_type": "execute_result"
    }
   ],
   "execution_count": 37
  },
  {
   "metadata": {},
   "cell_type": "markdown",
   "source": "#### Prepare Training Data",
   "id": "157df605263df828"
  },
  {
   "metadata": {},
   "cell_type": "code",
   "outputs": [],
   "execution_count": null,
   "source": [
    "# keep needed features in training data\n",
    "\n",
    "X_train_selected = X_train_resampled[:, selected_feature_indices]"
   ],
   "id": "e2ab2cb330c841ce"
  },
  {
   "metadata": {},
   "cell_type": "code",
   "outputs": [],
   "execution_count": null,
   "source": "",
   "id": "326e01bc88cfa987"
  },
  {
   "metadata": {},
   "cell_type": "code",
   "outputs": [],
   "execution_count": null,
   "source": "",
   "id": "5a0d500b7511f59b"
  },
  {
   "metadata": {},
   "cell_type": "code",
   "outputs": [],
   "execution_count": null,
   "source": "",
   "id": "a931b09468d5e10c"
  },
  {
   "metadata": {},
   "cell_type": "code",
   "outputs": [],
   "execution_count": null,
   "source": "",
   "id": "8116169b6b10a8e0"
  },
  {
   "metadata": {},
   "cell_type": "code",
   "outputs": [],
   "execution_count": null,
   "source": "",
   "id": "28d179356aa53a73"
  },
  {
   "metadata": {},
   "cell_type": "code",
   "outputs": [],
   "execution_count": null,
   "source": "",
   "id": "1a514ff783305677"
  },
  {
   "metadata": {},
   "cell_type": "code",
   "outputs": [],
   "execution_count": null,
   "source": "",
   "id": "101d771a315abd46"
  },
  {
   "metadata": {},
   "cell_type": "code",
   "outputs": [],
   "execution_count": null,
   "source": "",
   "id": "a27e3b4d150a640e"
  },
  {
   "cell_type": "markdown",
   "id": "f272077c184326dd",
   "metadata": {},
   "source": [
    "### Visualize Model Performance "
   ]
  },
  {
   "cell_type": "markdown",
   "id": "292f8c4030b765fd",
   "metadata": {},
   "source": [
    "#### Confusion matrics\n"
   ]
  },
  {
   "cell_type": "code",
   "id": "38cab2b439b653fe",
   "metadata": {
    "ExecuteTime": {
     "end_time": "2025-02-19T14:36:15.725188900Z",
     "start_time": "2025-02-19T11:48:23.652368Z"
    }
   },
   "source": [
    "cm = confusion_matrix(y_val, y_val_pred)\n",
    "sns.heatmap(cm, annot=True, fmt='d', cmap='Blues', xticklabels=['Class 0', 'Class 1'], yticklabels=['Class 0', 'Class 1'])\n",
    "plt.xlabel('Predicted')\n",
    "plt.ylabel('True')\n",
    "plt.title('Confusion Matrix')\n",
    "plt.show()"
   ],
   "outputs": [
    {
     "data": {
      "text/plain": [
       "<Figure size 640x480 with 2 Axes>"
      ],
      "image/png": "[encoded data removed]"
     },
     "metadata": {},
     "output_type": "display_data"
    }
   ],
   "execution_count": 56
  },
  {
   "cell_type": "markdown",
   "id": "ddcd7f7b35a040d7",
   "metadata": {},
   "source": [
    "*Strengths*: The model successfully identifies most customers at risk of leaving(81/89), allowing for targeted retention efforts.\n",
    "\n",
    "*Considerations*: It misclassifies some loyal customers (19 cases), meaning retention incentives could be given unnecessarily, but this trade off is acceptable given the high recall."
   ]
  },
  {
   "cell_type": "code",
   "id": "d534b87b3ff947b4",
   "metadata": {
    "ExecuteTime": {
     "end_time": "2025-02-19T14:36:15.726201600Z",
     "start_time": "2025-01-31T19:08:43.716896Z"
    }
   },
   "source": [
    "precision, recall, _ = precision_recall_curve(y_test, y_test_prob)\n",
    "plt.plot(recall, precision, color='b')\n",
    "plt.xlabel('Recall')\n",
    "plt.ylabel('Precision')\n",
    "plt.title('Precision-Recall Curve')\n",
    "plt.show()"
   ],
   "outputs": [
    {
     "data": {
      "text/plain": [
       "<Figure size 640x480 with 1 Axes>"
      ],
      "image/png": "[encoded data removed]"
     },
     "metadata": {},
     "output_type": "display_data"
    }
   ],
   "execution_count": 35
  },
  {
   "cell_type": "markdown",
   "id": "92aeb09c446d369e",
   "metadata": {},
   "source": [
    "#### Insight :\n",
    "\n",
    "The model maintains high precision even at high recall levels, meaning it can identify most churners while keeping false positives relatively low.\n",
    "\n",
    "This means the  model is well calibrated for churn prediction. The businesses can trust its flagged churners and take action without excessive wasted effort on false alarms"
   ]
  },
  {
   "cell_type": "code",
   "id": "e388b43fa44a2146",
   "metadata": {
    "ExecuteTime": {
     "end_time": "2025-02-19T14:36:15.727201Z",
     "start_time": "2025-01-31T19:08:44.026456Z"
    }
   },
   "source": [
    "plt.plot([0, 1], [0, 1], linestyle='--')\n",
    "plt.plot(recall, precision, label='Precision-Recall curve')\n",
    "plt.xlabel('Recall')\n",
    "plt.ylabel('Precision')\n",
    "plt.title('Precision vs Recall')\n",
    "plt.legend(loc='best')\n",
    "plt.show()"
   ],
   "outputs": [
    {
     "data": {
      "text/plain": [
       "<Figure size 640x480 with 1 Axes>"
      ],
      "image/png": "[encoded data removed]"
     },
     "metadata": {},
     "output_type": "display_data"
    }
   ],
   "execution_count": 36
  },
  {
   "cell_type": "markdown",
   "id": "75fb330302276ed0",
   "metadata": {},
   "source": [
    "#### Insight\n",
    "\n",
    "The diagonal dashed line represents a random classifier, meaning it has no predictive power.\n",
    "it would classify churn and non-churn customers purely by chance.\n",
    "\n",
    "\n",
    "The model's orange precision recall curve ; is well above this line, meaning it can correctly identify churners better than random guessing"
   ]
  }
 ],
 "metadata": {
  "kernelspec": {
   "display_name": "Python 3 (ipykernel)",
   "language": "python",
   "name": "python3"
  },
  "language_info": {
   "codemirror_mode": {
    "name": "ipython",
    "version": 3
   },
   "file_extension": ".py",
   "mimetype": "text/x-python",
   "name": "python",
   "nbconvert_exporter": "python",
   "pygments_lexer": "ipython3",
   "version": "3.11.11"
  }
 },
 "nbformat": 4,
 "nbformat_minor": 5
}
